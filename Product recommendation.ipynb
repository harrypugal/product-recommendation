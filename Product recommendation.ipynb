{
 "cells": [
  {
   "cell_type": "code",
   "execution_count": 1,
   "metadata": {},
   "outputs": [],
   "source": [
    "import pandas as pd\n",
    "import numpy as np\n",
    "import pickle\n",
    "from sklearn.model_selection import train_test_split \n",
    "from sklearn.metrics.pairwise import pairwise_distances\n",
    "from sklearn.preprocessing import MinMaxScaler\n",
    "import matplotlib.pyplot as plt\n",
    "from IPython.display import display\n",
    "import warnings\n",
    "warnings.filterwarnings('ignore')\n",
    "from sklearn.metrics.pairwise import cosine_similarity\n",
    "from sklearn.metrics import mean_squared_error\n",
    "\n",
    "from scipy.sparse.linalg import svds # for sparse matrices"
   ]
  },
  {
   "cell_type": "code",
   "execution_count": 2,
   "metadata": {},
   "outputs": [],
   "source": [
    "df=pd.read_csv(\"E:\\\\model\\\\ratings_Beauty.csv\")"
   ]
  },
  {
   "cell_type": "code",
   "execution_count": 3,
   "metadata": {},
   "outputs": [],
   "source": [
    "df.columns=map(str.lower,df.columns)"
   ]
  },
  {
   "cell_type": "code",
   "execution_count": 4,
   "metadata": {},
   "outputs": [
    {
     "data": {
      "text/html": [
       "<div>\n",
       "<style scoped>\n",
       "    .dataframe tbody tr th:only-of-type {\n",
       "        vertical-align: middle;\n",
       "    }\n",
       "\n",
       "    .dataframe tbody tr th {\n",
       "        vertical-align: top;\n",
       "    }\n",
       "\n",
       "    .dataframe thead th {\n",
       "        text-align: right;\n",
       "    }\n",
       "</style>\n",
       "<table border=\"1\" class=\"dataframe\">\n",
       "  <thead>\n",
       "    <tr style=\"text-align: right;\">\n",
       "      <th></th>\n",
       "      <th>userid</th>\n",
       "      <th>productid</th>\n",
       "      <th>rating</th>\n",
       "      <th>timestamp</th>\n",
       "    </tr>\n",
       "  </thead>\n",
       "  <tbody>\n",
       "    <tr>\n",
       "      <th>0</th>\n",
       "      <td>A39HTATAQ9V7YF</td>\n",
       "      <td>0205616461</td>\n",
       "      <td>5.0</td>\n",
       "      <td>1369699200</td>\n",
       "    </tr>\n",
       "    <tr>\n",
       "      <th>1</th>\n",
       "      <td>A3JM6GV9MNOF9X</td>\n",
       "      <td>0558925278</td>\n",
       "      <td>3.0</td>\n",
       "      <td>1355443200</td>\n",
       "    </tr>\n",
       "    <tr>\n",
       "      <th>2</th>\n",
       "      <td>A1Z513UWSAAO0F</td>\n",
       "      <td>0558925278</td>\n",
       "      <td>5.0</td>\n",
       "      <td>1404691200</td>\n",
       "    </tr>\n",
       "    <tr>\n",
       "      <th>3</th>\n",
       "      <td>A1WMRR494NWEWV</td>\n",
       "      <td>0733001998</td>\n",
       "      <td>4.0</td>\n",
       "      <td>1382572800</td>\n",
       "    </tr>\n",
       "    <tr>\n",
       "      <th>4</th>\n",
       "      <td>A3IAAVS479H7M7</td>\n",
       "      <td>0737104473</td>\n",
       "      <td>1.0</td>\n",
       "      <td>1274227200</td>\n",
       "    </tr>\n",
       "  </tbody>\n",
       "</table>\n",
       "</div>"
      ],
      "text/plain": [
       "           userid   productid  rating   timestamp\n",
       "0  A39HTATAQ9V7YF  0205616461     5.0  1369699200\n",
       "1  A3JM6GV9MNOF9X  0558925278     3.0  1355443200\n",
       "2  A1Z513UWSAAO0F  0558925278     5.0  1404691200\n",
       "3  A1WMRR494NWEWV  0733001998     4.0  1382572800\n",
       "4  A3IAAVS479H7M7  0737104473     1.0  1274227200"
      ]
     },
     "execution_count": 4,
     "metadata": {},
     "output_type": "execute_result"
    }
   ],
   "source": [
    "df.head()"
   ]
  },
  {
   "cell_type": "code",
   "execution_count": 5,
   "metadata": {},
   "outputs": [
    {
     "data": {
      "text/html": [
       "<div>\n",
       "<style scoped>\n",
       "    .dataframe tbody tr th:only-of-type {\n",
       "        vertical-align: middle;\n",
       "    }\n",
       "\n",
       "    .dataframe tbody tr th {\n",
       "        vertical-align: top;\n",
       "    }\n",
       "\n",
       "    .dataframe thead th {\n",
       "        text-align: right;\n",
       "    }\n",
       "</style>\n",
       "<table border=\"1\" class=\"dataframe\">\n",
       "  <thead>\n",
       "    <tr style=\"text-align: right;\">\n",
       "      <th></th>\n",
       "      <th>userid</th>\n",
       "      <th>productid</th>\n",
       "      <th>rating</th>\n",
       "      <th>timestamp</th>\n",
       "    </tr>\n",
       "  </thead>\n",
       "  <tbody>\n",
       "    <tr>\n",
       "      <th>1909529</th>\n",
       "      <td>A2IL3S5JIMVU7G</td>\n",
       "      <td>B00DHG3KRY</td>\n",
       "      <td>5.0</td>\n",
       "      <td>1386979200</td>\n",
       "    </tr>\n",
       "    <tr>\n",
       "      <th>1602242</th>\n",
       "      <td>A33VGZOMZUOOG8</td>\n",
       "      <td>B007RNPAJO</td>\n",
       "      <td>1.0</td>\n",
       "      <td>1378512000</td>\n",
       "    </tr>\n",
       "    <tr>\n",
       "      <th>1181425</th>\n",
       "      <td>A3H1D1D0G80ZWA</td>\n",
       "      <td>B0047L3FRS</td>\n",
       "      <td>5.0</td>\n",
       "      <td>1367280000</td>\n",
       "    </tr>\n",
       "    <tr>\n",
       "      <th>1848825</th>\n",
       "      <td>A26XDAOZFABDKK</td>\n",
       "      <td>B00BNLHUPI</td>\n",
       "      <td>5.0</td>\n",
       "      <td>1372291200</td>\n",
       "    </tr>\n",
       "    <tr>\n",
       "      <th>961295</th>\n",
       "      <td>A12QIPKKP0OPOJ</td>\n",
       "      <td>B002ZW1RJY</td>\n",
       "      <td>4.0</td>\n",
       "      <td>1377820800</td>\n",
       "    </tr>\n",
       "    <tr>\n",
       "      <th>276429</th>\n",
       "      <td>A106OS4VJITJKG</td>\n",
       "      <td>B000GXGROY</td>\n",
       "      <td>5.0</td>\n",
       "      <td>1400976000</td>\n",
       "    </tr>\n",
       "    <tr>\n",
       "      <th>967069</th>\n",
       "      <td>A1R4ZIWPJ1K7AU</td>\n",
       "      <td>B0030UT4ZE</td>\n",
       "      <td>5.0</td>\n",
       "      <td>1304121600</td>\n",
       "    </tr>\n",
       "    <tr>\n",
       "      <th>955752</th>\n",
       "      <td>A3KEZLJ59C1JVH</td>\n",
       "      <td>B002YLCHK4</td>\n",
       "      <td>4.0</td>\n",
       "      <td>1352851200</td>\n",
       "    </tr>\n",
       "    <tr>\n",
       "      <th>392713</th>\n",
       "      <td>A29KFP3DPPM2PS</td>\n",
       "      <td>B000QUSAMO</td>\n",
       "      <td>3.0</td>\n",
       "      <td>1240790400</td>\n",
       "    </tr>\n",
       "    <tr>\n",
       "      <th>1300826</th>\n",
       "      <td>A1HE9MQR979OZQ</td>\n",
       "      <td>B004TSFB1M</td>\n",
       "      <td>5.0</td>\n",
       "      <td>1396310400</td>\n",
       "    </tr>\n",
       "  </tbody>\n",
       "</table>\n",
       "</div>"
      ],
      "text/plain": [
       "                 userid   productid  rating   timestamp\n",
       "1909529  A2IL3S5JIMVU7G  B00DHG3KRY     5.0  1386979200\n",
       "1602242  A33VGZOMZUOOG8  B007RNPAJO     1.0  1378512000\n",
       "1181425  A3H1D1D0G80ZWA  B0047L3FRS     5.0  1367280000\n",
       "1848825  A26XDAOZFABDKK  B00BNLHUPI     5.0  1372291200\n",
       "961295   A12QIPKKP0OPOJ  B002ZW1RJY     4.0  1377820800\n",
       "276429   A106OS4VJITJKG  B000GXGROY     5.0  1400976000\n",
       "967069   A1R4ZIWPJ1K7AU  B0030UT4ZE     5.0  1304121600\n",
       "955752   A3KEZLJ59C1JVH  B002YLCHK4     4.0  1352851200\n",
       "392713   A29KFP3DPPM2PS  B000QUSAMO     3.0  1240790400\n",
       "1300826  A1HE9MQR979OZQ  B004TSFB1M     5.0  1396310400"
      ]
     },
     "metadata": {},
     "output_type": "display_data"
    }
   ],
   "source": [
    "display(df.sample(n=10, random_state=42))"
   ]
  },
  {
   "cell_type": "code",
   "execution_count": 6,
   "metadata": {},
   "outputs": [],
   "source": [
    "df=df.dropna()"
   ]
  },
  {
   "cell_type": "code",
   "execution_count": 7,
   "metadata": {},
   "outputs": [
    {
     "data": {
      "text/html": [
       "<div>\n",
       "<style scoped>\n",
       "    .dataframe tbody tr th:only-of-type {\n",
       "        vertical-align: middle;\n",
       "    }\n",
       "\n",
       "    .dataframe tbody tr th {\n",
       "        vertical-align: top;\n",
       "    }\n",
       "\n",
       "    .dataframe thead th {\n",
       "        text-align: right;\n",
       "    }\n",
       "</style>\n",
       "<table border=\"1\" class=\"dataframe\">\n",
       "  <thead>\n",
       "    <tr style=\"text-align: right;\">\n",
       "      <th></th>\n",
       "      <th>userid</th>\n",
       "      <th>productid</th>\n",
       "      <th>rating</th>\n",
       "      <th>timestamp</th>\n",
       "    </tr>\n",
       "  </thead>\n",
       "  <tbody>\n",
       "    <tr>\n",
       "      <th>0</th>\n",
       "      <td>A39HTATAQ9V7YF</td>\n",
       "      <td>0205616461</td>\n",
       "      <td>5.0</td>\n",
       "      <td>1369699200</td>\n",
       "    </tr>\n",
       "    <tr>\n",
       "      <th>1</th>\n",
       "      <td>A3JM6GV9MNOF9X</td>\n",
       "      <td>0558925278</td>\n",
       "      <td>3.0</td>\n",
       "      <td>1355443200</td>\n",
       "    </tr>\n",
       "    <tr>\n",
       "      <th>2</th>\n",
       "      <td>A1Z513UWSAAO0F</td>\n",
       "      <td>0558925278</td>\n",
       "      <td>5.0</td>\n",
       "      <td>1404691200</td>\n",
       "    </tr>\n",
       "    <tr>\n",
       "      <th>3</th>\n",
       "      <td>A1WMRR494NWEWV</td>\n",
       "      <td>0733001998</td>\n",
       "      <td>4.0</td>\n",
       "      <td>1382572800</td>\n",
       "    </tr>\n",
       "    <tr>\n",
       "      <th>4</th>\n",
       "      <td>A3IAAVS479H7M7</td>\n",
       "      <td>0737104473</td>\n",
       "      <td>1.0</td>\n",
       "      <td>1274227200</td>\n",
       "    </tr>\n",
       "  </tbody>\n",
       "</table>\n",
       "</div>"
      ],
      "text/plain": [
       "           userid   productid  rating   timestamp\n",
       "0  A39HTATAQ9V7YF  0205616461     5.0  1369699200\n",
       "1  A3JM6GV9MNOF9X  0558925278     3.0  1355443200\n",
       "2  A1Z513UWSAAO0F  0558925278     5.0  1404691200\n",
       "3  A1WMRR494NWEWV  0733001998     4.0  1382572800\n",
       "4  A3IAAVS479H7M7  0737104473     1.0  1274227200"
      ]
     },
     "execution_count": 7,
     "metadata": {},
     "output_type": "execute_result"
    }
   ],
   "source": [
    "df.head()"
   ]
  },
  {
   "cell_type": "code",
   "execution_count": 8,
   "metadata": {},
   "outputs": [],
   "source": [
    "df1=df.drop('timestamp',axis=1)"
   ]
  },
  {
   "cell_type": "code",
   "execution_count": 9,
   "metadata": {},
   "outputs": [
    {
     "data": {
      "text/plain": [
       "<bound method NDFrame.head of                  userid   productid  rating\n",
       "0        A39HTATAQ9V7YF  0205616461     5.0\n",
       "1        A3JM6GV9MNOF9X  0558925278     3.0\n",
       "2        A1Z513UWSAAO0F  0558925278     5.0\n",
       "3        A1WMRR494NWEWV  0733001998     4.0\n",
       "4        A3IAAVS479H7M7  0737104473     1.0\n",
       "...                 ...         ...     ...\n",
       "2023065  A3DEHKPFANB8VA  B00LORWRJA     5.0\n",
       "2023066  A3DEHKPFANB8VA  B00LOS7MEE     5.0\n",
       "2023067   AG9TJLJUN5OM3  B00LP2YB8E     5.0\n",
       "2023068   AYBIB14QOI9PC  B00LPVG6V0     5.0\n",
       "2023069  A1PB6OT0OOPKNQ  B00LU0LTOU     5.0\n",
       "\n",
       "[2023070 rows x 3 columns]>"
      ]
     },
     "execution_count": 9,
     "metadata": {},
     "output_type": "execute_result"
    }
   ],
   "source": [
    "df1.head"
   ]
  },
  {
   "cell_type": "code",
   "execution_count": 10,
   "metadata": {},
   "outputs": [
    {
     "name": "stdout",
     "output_type": "stream",
     "text": [
      "2023070\n",
      "3\n"
     ]
    }
   ],
   "source": [
    "row,columns=df1.shape\n",
    "print(row)\n",
    "print(columns)"
   ]
  },
  {
   "cell_type": "code",
   "execution_count": 11,
   "metadata": {},
   "outputs": [
    {
     "name": "stdout",
     "output_type": "stream",
     "text": [
      "<class 'pandas.core.frame.DataFrame'>\n",
      "RangeIndex: 2023070 entries, 0 to 2023069\n",
      "Data columns (total 3 columns):\n",
      " #   Column     Dtype  \n",
      "---  ------     -----  \n",
      " 0   userid     object \n",
      " 1   productid  object \n",
      " 2   rating     float64\n",
      "dtypes: float64(1), object(2)\n",
      "memory usage: 46.3+ MB\n"
     ]
    }
   ],
   "source": [
    "df1.info()"
   ]
  },
  {
   "cell_type": "code",
   "execution_count": 12,
   "metadata": {},
   "outputs": [
    {
     "data": {
      "text/plain": [
       "userid       0\n",
       "productid    0\n",
       "rating       0\n",
       "timestamp    0\n",
       "dtype: int64"
      ]
     },
     "execution_count": 12,
     "metadata": {},
     "output_type": "execute_result"
    }
   ],
   "source": [
    "df.isnull().sum()"
   ]
  },
  {
   "cell_type": "markdown",
   "metadata": {},
   "source": [
    "# summary"
   ]
  },
  {
   "cell_type": "code",
   "execution_count": 13,
   "metadata": {},
   "outputs": [
    {
     "data": {
      "text/plain": [
       "count    2.023070e+06\n",
       "mean     4.149036e+00\n",
       "std      1.311505e+00\n",
       "min      1.000000e+00\n",
       "25%      4.000000e+00\n",
       "50%      5.000000e+00\n",
       "75%      5.000000e+00\n",
       "max      5.000000e+00\n",
       "Name: rating, dtype: float64"
      ]
     },
     "execution_count": 13,
     "metadata": {},
     "output_type": "execute_result"
    }
   ],
   "source": [
    "df1['rating'].describe()"
   ]
  },
  {
   "cell_type": "code",
   "execution_count": 14,
   "metadata": {},
   "outputs": [
    {
     "data": {
      "image/png": "[encoded data removed]",
      "text/plain": [
       "<Figure size 1500x800 with 1 Axes>"
      ]
     },
     "metadata": {},
     "output_type": "display_data"
    }
   ],
   "source": [
    "plt.figure(figsize=(15,8))\n",
    "df1['rating'].value_counts().plot(kind='bar')\n",
    "plt.show()"
   ]
  },
  {
   "cell_type": "code",
   "execution_count": 15,
   "metadata": {},
   "outputs": [
    {
     "name": "stdout",
     "output_type": "stream",
     "text": [
      "Number of the nunique values user data: 1210271\n",
      "number of the nunique value in user data 249274\n"
     ]
    }
   ],
   "source": [
    "# check number of nunique values\n",
    "print('Number of the nunique values user data:',df1['userid'].nunique())\n",
    "print('number of the nunique value in user data',df1['productid'].nunique())"
   ]
  },
  {
   "cell_type": "markdown",
   "metadata": {},
   "source": [
    "# more rating in user data"
   ]
  },
  {
   "cell_type": "code",
   "execution_count": 16,
   "metadata": {},
   "outputs": [
    {
     "name": "stdout",
     "output_type": "stream",
     "text": [
      "userid\n",
      "A3KEZLJ59C1JVH    389\n",
      "A281NPSIMI1C2R    336\n",
      "A3M174IC0VXOS2    326\n",
      "A2V5R832QCSOMX    278\n",
      "A3LJLRIZL38GG3    276\n",
      "ALQGOMOY1F5X9     275\n",
      "AKMEY1BSHSDG7     269\n",
      "A3R9H6OKZHHRJD    259\n",
      "A1M04H40ZVGWVG    249\n",
      "A1RRMZKOMZ2M7J    225\n",
      "dtype: int64\n"
     ]
    }
   ],
   "source": [
    "most_rate=df1.groupby('userid').size().sort_values(ascending=False)[:10]\n",
    "print(most_rate)"
   ]
  },
  {
   "cell_type": "markdown",
   "metadata": {},
   "source": [
    "## Pre-Processing"
   ]
  },
  {
   "cell_type": "markdown",
   "metadata": {},
   "source": [
    "#Let's take a subset of the dataset (by only keeping the users who have given 50 or more ratings) to make the dataset less sparse and easy to work with."
   ]
  },
  {
   "cell_type": "code",
   "execution_count": 17,
   "metadata": {},
   "outputs": [],
   "source": [
    "count_df=df1['userid'].value_counts()\n",
    "df_final=df1[df1['userid'].isin(count_df[count_df >=20].index)]"
   ]
  },
  {
   "cell_type": "code",
   "execution_count": 18,
   "metadata": {},
   "outputs": [
    {
     "data": {
      "text/html": [
       "<div>\n",
       "<style scoped>\n",
       "    .dataframe tbody tr th:only-of-type {\n",
       "        vertical-align: middle;\n",
       "    }\n",
       "\n",
       "    .dataframe tbody tr th {\n",
       "        vertical-align: top;\n",
       "    }\n",
       "\n",
       "    .dataframe thead th {\n",
       "        text-align: right;\n",
       "    }\n",
       "</style>\n",
       "<table border=\"1\" class=\"dataframe\">\n",
       "  <thead>\n",
       "    <tr style=\"text-align: right;\">\n",
       "      <th></th>\n",
       "      <th>userid</th>\n",
       "      <th>productid</th>\n",
       "      <th>rating</th>\n",
       "    </tr>\n",
       "  </thead>\n",
       "  <tbody>\n",
       "    <tr>\n",
       "      <th>5</th>\n",
       "      <td>AKJHHD5VEH7VG</td>\n",
       "      <td>0762451459</td>\n",
       "      <td>5.0</td>\n",
       "    </tr>\n",
       "    <tr>\n",
       "      <th>6</th>\n",
       "      <td>A1BG8QW55XHN6U</td>\n",
       "      <td>1304139212</td>\n",
       "      <td>5.0</td>\n",
       "    </tr>\n",
       "    <tr>\n",
       "      <th>10</th>\n",
       "      <td>A1BG8QW55XHN6U</td>\n",
       "      <td>130414643X</td>\n",
       "      <td>5.0</td>\n",
       "    </tr>\n",
       "    <tr>\n",
       "      <th>19</th>\n",
       "      <td>A1BG8QW55XHN6U</td>\n",
       "      <td>1304174867</td>\n",
       "      <td>5.0</td>\n",
       "    </tr>\n",
       "    <tr>\n",
       "      <th>20</th>\n",
       "      <td>A1BG8QW55XHN6U</td>\n",
       "      <td>1304174905</td>\n",
       "      <td>5.0</td>\n",
       "    </tr>\n",
       "  </tbody>\n",
       "</table>\n",
       "</div>"
      ],
      "text/plain": [
       "            userid   productid  rating\n",
       "5    AKJHHD5VEH7VG  0762451459     5.0\n",
       "6   A1BG8QW55XHN6U  1304139212     5.0\n",
       "10  A1BG8QW55XHN6U  130414643X     5.0\n",
       "19  A1BG8QW55XHN6U  1304174867     5.0\n",
       "20  A1BG8QW55XHN6U  1304174905     5.0"
      ]
     },
     "execution_count": 18,
     "metadata": {},
     "output_type": "execute_result"
    }
   ],
   "source": [
    "df_final.head()"
   ]
  },
  {
   "cell_type": "code",
   "execution_count": 19,
   "metadata": {},
   "outputs": [
    {
     "name": "stdout",
     "output_type": "stream",
     "text": [
      "The number of observations in the final data = 97860\n",
      "Number of unique USERS in the final data =  2826\n",
      "Number of unique PRODUCTS in the final data =  42042\n"
     ]
    }
   ],
   "source": [
    "\n",
    "print('The number of observations in the final data =', len(df_final))\n",
    "print('Number of unique USERS in the final data = ', df_final['userid'].nunique())\n",
    "print('Number of unique PRODUCTS in the final data = ', df_final['productid'].nunique())"
   ]
  },
  {
   "cell_type": "markdown",
   "metadata": {},
   "source": [
    "#  this for who are more then 50 rating productid\n",
    "# we will choose the product recommendation product"
   ]
  },
  {
   "cell_type": "code",
   "execution_count": 20,
   "metadata": {},
   "outputs": [],
   "source": [
    "final=df_final.pivot_table(index='userid',columns='productid',values='rating').fillna(0)"
   ]
  },
  {
   "cell_type": "code",
   "execution_count": 21,
   "metadata": {},
   "outputs": [
    {
     "data": {
      "text/plain": [
       "(2826, 42042)"
      ]
     },
     "execution_count": 21,
     "metadata": {},
     "output_type": "execute_result"
    }
   ],
   "source": [
    "final.shape"
   ]
  },
  {
   "cell_type": "code",
   "execution_count": 22,
   "metadata": {},
   "outputs": [
    {
     "data": {
      "text/html": [
       "<div>\n",
       "<style scoped>\n",
       "    .dataframe tbody tr th:only-of-type {\n",
       "        vertical-align: middle;\n",
       "    }\n",
       "\n",
       "    .dataframe tbody tr th {\n",
       "        vertical-align: top;\n",
       "    }\n",
       "\n",
       "    .dataframe thead th {\n",
       "        text-align: right;\n",
       "    }\n",
       "</style>\n",
       "<table border=\"1\" class=\"dataframe\">\n",
       "  <thead>\n",
       "    <tr style=\"text-align: right;\">\n",
       "      <th>productid</th>\n",
       "      <th>0762451459</th>\n",
       "      <th>1304139212</th>\n",
       "      <th>130414643X</th>\n",
       "      <th>1304174867</th>\n",
       "      <th>1304174905</th>\n",
       "      <th>1304351475</th>\n",
       "      <th>1304482596</th>\n",
       "      <th>1304482685</th>\n",
       "      <th>1304495396</th>\n",
       "      <th>1304511111</th>\n",
       "      <th>...</th>\n",
       "      <th>B00L4I5PJS</th>\n",
       "      <th>B00L5BXG36</th>\n",
       "      <th>B00L5JHZJO</th>\n",
       "      <th>B00L5KTZ0K</th>\n",
       "      <th>B00L7BX4FE</th>\n",
       "      <th>B00LG63DOM</th>\n",
       "      <th>B00LH25A32</th>\n",
       "      <th>B00LH81A0I</th>\n",
       "      <th>B00LLPT4HI</th>\n",
       "      <th>B00LMOT7X4</th>\n",
       "    </tr>\n",
       "    <tr>\n",
       "      <th>userid</th>\n",
       "      <th></th>\n",
       "      <th></th>\n",
       "      <th></th>\n",
       "      <th></th>\n",
       "      <th></th>\n",
       "      <th></th>\n",
       "      <th></th>\n",
       "      <th></th>\n",
       "      <th></th>\n",
       "      <th></th>\n",
       "      <th></th>\n",
       "      <th></th>\n",
       "      <th></th>\n",
       "      <th></th>\n",
       "      <th></th>\n",
       "      <th></th>\n",
       "      <th></th>\n",
       "      <th></th>\n",
       "      <th></th>\n",
       "      <th></th>\n",
       "      <th></th>\n",
       "    </tr>\n",
       "  </thead>\n",
       "  <tbody>\n",
       "    <tr>\n",
       "      <th>A03364251DGXSGA9PSR99</th>\n",
       "      <td>0.0</td>\n",
       "      <td>0.0</td>\n",
       "      <td>0.0</td>\n",
       "      <td>0.0</td>\n",
       "      <td>0.0</td>\n",
       "      <td>0.0</td>\n",
       "      <td>0.0</td>\n",
       "      <td>0.0</td>\n",
       "      <td>0.0</td>\n",
       "      <td>0.0</td>\n",
       "      <td>...</td>\n",
       "      <td>0.0</td>\n",
       "      <td>0.0</td>\n",
       "      <td>0.0</td>\n",
       "      <td>0.0</td>\n",
       "      <td>0.0</td>\n",
       "      <td>0.0</td>\n",
       "      <td>0.0</td>\n",
       "      <td>0.0</td>\n",
       "      <td>0.0</td>\n",
       "      <td>0.0</td>\n",
       "    </tr>\n",
       "    <tr>\n",
       "      <th>A099766128UI0NCS98N1E</th>\n",
       "      <td>0.0</td>\n",
       "      <td>0.0</td>\n",
       "      <td>0.0</td>\n",
       "      <td>0.0</td>\n",
       "      <td>0.0</td>\n",
       "      <td>0.0</td>\n",
       "      <td>0.0</td>\n",
       "      <td>0.0</td>\n",
       "      <td>0.0</td>\n",
       "      <td>0.0</td>\n",
       "      <td>...</td>\n",
       "      <td>0.0</td>\n",
       "      <td>0.0</td>\n",
       "      <td>0.0</td>\n",
       "      <td>0.0</td>\n",
       "      <td>0.0</td>\n",
       "      <td>0.0</td>\n",
       "      <td>0.0</td>\n",
       "      <td>0.0</td>\n",
       "      <td>0.0</td>\n",
       "      <td>0.0</td>\n",
       "    </tr>\n",
       "    <tr>\n",
       "      <th>A100WO06OQR8BQ</th>\n",
       "      <td>0.0</td>\n",
       "      <td>0.0</td>\n",
       "      <td>0.0</td>\n",
       "      <td>0.0</td>\n",
       "      <td>0.0</td>\n",
       "      <td>0.0</td>\n",
       "      <td>0.0</td>\n",
       "      <td>0.0</td>\n",
       "      <td>0.0</td>\n",
       "      <td>0.0</td>\n",
       "      <td>...</td>\n",
       "      <td>0.0</td>\n",
       "      <td>0.0</td>\n",
       "      <td>0.0</td>\n",
       "      <td>0.0</td>\n",
       "      <td>0.0</td>\n",
       "      <td>0.0</td>\n",
       "      <td>0.0</td>\n",
       "      <td>0.0</td>\n",
       "      <td>0.0</td>\n",
       "      <td>0.0</td>\n",
       "    </tr>\n",
       "    <tr>\n",
       "      <th>A100ZQDV7L8PVV</th>\n",
       "      <td>0.0</td>\n",
       "      <td>0.0</td>\n",
       "      <td>0.0</td>\n",
       "      <td>0.0</td>\n",
       "      <td>0.0</td>\n",
       "      <td>0.0</td>\n",
       "      <td>0.0</td>\n",
       "      <td>0.0</td>\n",
       "      <td>0.0</td>\n",
       "      <td>0.0</td>\n",
       "      <td>...</td>\n",
       "      <td>0.0</td>\n",
       "      <td>0.0</td>\n",
       "      <td>0.0</td>\n",
       "      <td>0.0</td>\n",
       "      <td>0.0</td>\n",
       "      <td>0.0</td>\n",
       "      <td>0.0</td>\n",
       "      <td>0.0</td>\n",
       "      <td>0.0</td>\n",
       "      <td>0.0</td>\n",
       "    </tr>\n",
       "    <tr>\n",
       "      <th>A102JNFLL0KW7I</th>\n",
       "      <td>0.0</td>\n",
       "      <td>0.0</td>\n",
       "      <td>0.0</td>\n",
       "      <td>0.0</td>\n",
       "      <td>0.0</td>\n",
       "      <td>0.0</td>\n",
       "      <td>0.0</td>\n",
       "      <td>0.0</td>\n",
       "      <td>0.0</td>\n",
       "      <td>0.0</td>\n",
       "      <td>...</td>\n",
       "      <td>0.0</td>\n",
       "      <td>0.0</td>\n",
       "      <td>0.0</td>\n",
       "      <td>0.0</td>\n",
       "      <td>0.0</td>\n",
       "      <td>0.0</td>\n",
       "      <td>0.0</td>\n",
       "      <td>0.0</td>\n",
       "      <td>0.0</td>\n",
       "      <td>0.0</td>\n",
       "    </tr>\n",
       "  </tbody>\n",
       "</table>\n",
       "<p>5 rows × 42042 columns</p>\n",
       "</div>"
      ],
      "text/plain": [
       "productid              0762451459  1304139212  130414643X  1304174867  \\\n",
       "userid                                                                  \n",
       "A03364251DGXSGA9PSR99         0.0         0.0         0.0         0.0   \n",
       "A099766128UI0NCS98N1E         0.0         0.0         0.0         0.0   \n",
       "A100WO06OQR8BQ                0.0         0.0         0.0         0.0   \n",
       "A100ZQDV7L8PVV                0.0         0.0         0.0         0.0   \n",
       "A102JNFLL0KW7I                0.0         0.0         0.0         0.0   \n",
       "\n",
       "productid              1304174905  1304351475  1304482596  1304482685  \\\n",
       "userid                                                                  \n",
       "A03364251DGXSGA9PSR99         0.0         0.0         0.0         0.0   \n",
       "A099766128UI0NCS98N1E         0.0         0.0         0.0         0.0   \n",
       "A100WO06OQR8BQ                0.0         0.0         0.0         0.0   \n",
       "A100ZQDV7L8PVV                0.0         0.0         0.0         0.0   \n",
       "A102JNFLL0KW7I                0.0         0.0         0.0         0.0   \n",
       "\n",
       "productid              1304495396  1304511111  ...  B00L4I5PJS  B00L5BXG36  \\\n",
       "userid                                         ...                           \n",
       "A03364251DGXSGA9PSR99         0.0         0.0  ...         0.0         0.0   \n",
       "A099766128UI0NCS98N1E         0.0         0.0  ...         0.0         0.0   \n",
       "A100WO06OQR8BQ                0.0         0.0  ...         0.0         0.0   \n",
       "A100ZQDV7L8PVV                0.0         0.0  ...         0.0         0.0   \n",
       "A102JNFLL0KW7I                0.0         0.0  ...         0.0         0.0   \n",
       "\n",
       "productid              B00L5JHZJO  B00L5KTZ0K  B00L7BX4FE  B00LG63DOM  \\\n",
       "userid                                                                  \n",
       "A03364251DGXSGA9PSR99         0.0         0.0         0.0         0.0   \n",
       "A099766128UI0NCS98N1E         0.0         0.0         0.0         0.0   \n",
       "A100WO06OQR8BQ                0.0         0.0         0.0         0.0   \n",
       "A100ZQDV7L8PVV                0.0         0.0         0.0         0.0   \n",
       "A102JNFLL0KW7I                0.0         0.0         0.0         0.0   \n",
       "\n",
       "productid              B00LH25A32  B00LH81A0I  B00LLPT4HI  B00LMOT7X4  \n",
       "userid                                                                 \n",
       "A03364251DGXSGA9PSR99         0.0         0.0         0.0         0.0  \n",
       "A099766128UI0NCS98N1E         0.0         0.0         0.0         0.0  \n",
       "A100WO06OQR8BQ                0.0         0.0         0.0         0.0  \n",
       "A100ZQDV7L8PVV                0.0         0.0         0.0         0.0  \n",
       "A102JNFLL0KW7I                0.0         0.0         0.0         0.0  \n",
       "\n",
       "[5 rows x 42042 columns]"
      ]
     },
     "execution_count": 22,
     "metadata": {},
     "output_type": "execute_result"
    }
   ],
   "source": [
    "final.head()"
   ]
  },
  {
   "cell_type": "code",
   "execution_count": 23,
   "metadata": {},
   "outputs": [
    {
     "name": "stdout",
     "output_type": "stream",
     "text": [
      "give_num_rating 97860\n"
     ]
    }
   ],
   "source": [
    "#Finding the number of non-zero entries in the interaction matrix \n",
    "num_rating=np.count_nonzero(final)\n",
    "print('give_num_rating',num_rating)"
   ]
  },
  {
   "cell_type": "code",
   "execution_count": 24,
   "metadata": {},
   "outputs": [
    {
     "name": "stdout",
     "output_type": "stream",
     "text": [
      "possible in rating 118810692\n"
     ]
    }
   ],
   "source": [
    "#Finding the possible number of ratings as per the number of users and products\n",
    "possible_rating=final.shape[0] * final.shape[1]\n",
    "print('possible in rating', possible_rating)"
   ]
  },
  {
   "cell_type": "code",
   "execution_count": 25,
   "metadata": {},
   "outputs": [
    {
     "name": "stdout",
     "output_type": "stream",
     "text": [
      "density : 0.08%\n"
     ]
    }
   ],
   "source": [
    "#Density of ratings\n",
    "density=(num_rating/possible_rating)\n",
    "density *=100\n",
    "print('density : {:4.2f}%'.format(density))"
   ]
  },
  {
   "cell_type": "code",
   "execution_count": 26,
   "metadata": {},
   "outputs": [
    {
     "data": {
      "text/html": [
       "<div>\n",
       "<style scoped>\n",
       "    .dataframe tbody tr th:only-of-type {\n",
       "        vertical-align: middle;\n",
       "    }\n",
       "\n",
       "    .dataframe tbody tr th {\n",
       "        vertical-align: top;\n",
       "    }\n",
       "\n",
       "    .dataframe thead th {\n",
       "        text-align: right;\n",
       "    }\n",
       "</style>\n",
       "<table border=\"1\" class=\"dataframe\">\n",
       "  <thead>\n",
       "    <tr style=\"text-align: right;\">\n",
       "      <th>productid</th>\n",
       "      <th>0762451459</th>\n",
       "      <th>1304139212</th>\n",
       "      <th>130414643X</th>\n",
       "      <th>1304174867</th>\n",
       "      <th>1304174905</th>\n",
       "      <th>1304351475</th>\n",
       "      <th>1304482596</th>\n",
       "      <th>1304482685</th>\n",
       "      <th>1304495396</th>\n",
       "      <th>1304511111</th>\n",
       "      <th>...</th>\n",
       "      <th>B00L4I5PJS</th>\n",
       "      <th>B00L5BXG36</th>\n",
       "      <th>B00L5JHZJO</th>\n",
       "      <th>B00L5KTZ0K</th>\n",
       "      <th>B00L7BX4FE</th>\n",
       "      <th>B00LG63DOM</th>\n",
       "      <th>B00LH25A32</th>\n",
       "      <th>B00LH81A0I</th>\n",
       "      <th>B00LLPT4HI</th>\n",
       "      <th>B00LMOT7X4</th>\n",
       "    </tr>\n",
       "    <tr>\n",
       "      <th>userid</th>\n",
       "      <th></th>\n",
       "      <th></th>\n",
       "      <th></th>\n",
       "      <th></th>\n",
       "      <th></th>\n",
       "      <th></th>\n",
       "      <th></th>\n",
       "      <th></th>\n",
       "      <th></th>\n",
       "      <th></th>\n",
       "      <th></th>\n",
       "      <th></th>\n",
       "      <th></th>\n",
       "      <th></th>\n",
       "      <th></th>\n",
       "      <th></th>\n",
       "      <th></th>\n",
       "      <th></th>\n",
       "      <th></th>\n",
       "      <th></th>\n",
       "      <th></th>\n",
       "    </tr>\n",
       "  </thead>\n",
       "  <tbody>\n",
       "    <tr>\n",
       "      <th>A03364251DGXSGA9PSR99</th>\n",
       "      <td>0.0</td>\n",
       "      <td>0.0</td>\n",
       "      <td>0.0</td>\n",
       "      <td>0.0</td>\n",
       "      <td>0.0</td>\n",
       "      <td>0.0</td>\n",
       "      <td>0.0</td>\n",
       "      <td>0.0</td>\n",
       "      <td>0.0</td>\n",
       "      <td>0.0</td>\n",
       "      <td>...</td>\n",
       "      <td>0.0</td>\n",
       "      <td>0.0</td>\n",
       "      <td>0.0</td>\n",
       "      <td>0.0</td>\n",
       "      <td>0.0</td>\n",
       "      <td>0.0</td>\n",
       "      <td>0.0</td>\n",
       "      <td>0.0</td>\n",
       "      <td>0.0</td>\n",
       "      <td>0.0</td>\n",
       "    </tr>\n",
       "    <tr>\n",
       "      <th>A099766128UI0NCS98N1E</th>\n",
       "      <td>0.0</td>\n",
       "      <td>0.0</td>\n",
       "      <td>0.0</td>\n",
       "      <td>0.0</td>\n",
       "      <td>0.0</td>\n",
       "      <td>0.0</td>\n",
       "      <td>0.0</td>\n",
       "      <td>0.0</td>\n",
       "      <td>0.0</td>\n",
       "      <td>0.0</td>\n",
       "      <td>...</td>\n",
       "      <td>0.0</td>\n",
       "      <td>0.0</td>\n",
       "      <td>0.0</td>\n",
       "      <td>0.0</td>\n",
       "      <td>0.0</td>\n",
       "      <td>0.0</td>\n",
       "      <td>0.0</td>\n",
       "      <td>0.0</td>\n",
       "      <td>0.0</td>\n",
       "      <td>0.0</td>\n",
       "    </tr>\n",
       "    <tr>\n",
       "      <th>A100WO06OQR8BQ</th>\n",
       "      <td>0.0</td>\n",
       "      <td>0.0</td>\n",
       "      <td>0.0</td>\n",
       "      <td>0.0</td>\n",
       "      <td>0.0</td>\n",
       "      <td>0.0</td>\n",
       "      <td>0.0</td>\n",
       "      <td>0.0</td>\n",
       "      <td>0.0</td>\n",
       "      <td>0.0</td>\n",
       "      <td>...</td>\n",
       "      <td>0.0</td>\n",
       "      <td>0.0</td>\n",
       "      <td>0.0</td>\n",
       "      <td>0.0</td>\n",
       "      <td>0.0</td>\n",
       "      <td>0.0</td>\n",
       "      <td>0.0</td>\n",
       "      <td>0.0</td>\n",
       "      <td>0.0</td>\n",
       "      <td>0.0</td>\n",
       "    </tr>\n",
       "    <tr>\n",
       "      <th>A100ZQDV7L8PVV</th>\n",
       "      <td>0.0</td>\n",
       "      <td>0.0</td>\n",
       "      <td>0.0</td>\n",
       "      <td>0.0</td>\n",
       "      <td>0.0</td>\n",
       "      <td>0.0</td>\n",
       "      <td>0.0</td>\n",
       "      <td>0.0</td>\n",
       "      <td>0.0</td>\n",
       "      <td>0.0</td>\n",
       "      <td>...</td>\n",
       "      <td>0.0</td>\n",
       "      <td>0.0</td>\n",
       "      <td>0.0</td>\n",
       "      <td>0.0</td>\n",
       "      <td>0.0</td>\n",
       "      <td>0.0</td>\n",
       "      <td>0.0</td>\n",
       "      <td>0.0</td>\n",
       "      <td>0.0</td>\n",
       "      <td>0.0</td>\n",
       "    </tr>\n",
       "    <tr>\n",
       "      <th>A102JNFLL0KW7I</th>\n",
       "      <td>0.0</td>\n",
       "      <td>0.0</td>\n",
       "      <td>0.0</td>\n",
       "      <td>0.0</td>\n",
       "      <td>0.0</td>\n",
       "      <td>0.0</td>\n",
       "      <td>0.0</td>\n",
       "      <td>0.0</td>\n",
       "      <td>0.0</td>\n",
       "      <td>0.0</td>\n",
       "      <td>...</td>\n",
       "      <td>0.0</td>\n",
       "      <td>0.0</td>\n",
       "      <td>0.0</td>\n",
       "      <td>0.0</td>\n",
       "      <td>0.0</td>\n",
       "      <td>0.0</td>\n",
       "      <td>0.0</td>\n",
       "      <td>0.0</td>\n",
       "      <td>0.0</td>\n",
       "      <td>0.0</td>\n",
       "    </tr>\n",
       "  </tbody>\n",
       "</table>\n",
       "<p>5 rows × 42042 columns</p>\n",
       "</div>"
      ],
      "text/plain": [
       "productid              0762451459  1304139212  130414643X  1304174867  \\\n",
       "userid                                                                  \n",
       "A03364251DGXSGA9PSR99         0.0         0.0         0.0         0.0   \n",
       "A099766128UI0NCS98N1E         0.0         0.0         0.0         0.0   \n",
       "A100WO06OQR8BQ                0.0         0.0         0.0         0.0   \n",
       "A100ZQDV7L8PVV                0.0         0.0         0.0         0.0   \n",
       "A102JNFLL0KW7I                0.0         0.0         0.0         0.0   \n",
       "\n",
       "productid              1304174905  1304351475  1304482596  1304482685  \\\n",
       "userid                                                                  \n",
       "A03364251DGXSGA9PSR99         0.0         0.0         0.0         0.0   \n",
       "A099766128UI0NCS98N1E         0.0         0.0         0.0         0.0   \n",
       "A100WO06OQR8BQ                0.0         0.0         0.0         0.0   \n",
       "A100ZQDV7L8PVV                0.0         0.0         0.0         0.0   \n",
       "A102JNFLL0KW7I                0.0         0.0         0.0         0.0   \n",
       "\n",
       "productid              1304495396  1304511111  ...  B00L4I5PJS  B00L5BXG36  \\\n",
       "userid                                         ...                           \n",
       "A03364251DGXSGA9PSR99         0.0         0.0  ...         0.0         0.0   \n",
       "A099766128UI0NCS98N1E         0.0         0.0  ...         0.0         0.0   \n",
       "A100WO06OQR8BQ                0.0         0.0  ...         0.0         0.0   \n",
       "A100ZQDV7L8PVV                0.0         0.0  ...         0.0         0.0   \n",
       "A102JNFLL0KW7I                0.0         0.0  ...         0.0         0.0   \n",
       "\n",
       "productid              B00L5JHZJO  B00L5KTZ0K  B00L7BX4FE  B00LG63DOM  \\\n",
       "userid                                                                  \n",
       "A03364251DGXSGA9PSR99         0.0         0.0         0.0         0.0   \n",
       "A099766128UI0NCS98N1E         0.0         0.0         0.0         0.0   \n",
       "A100WO06OQR8BQ                0.0         0.0         0.0         0.0   \n",
       "A100ZQDV7L8PVV                0.0         0.0         0.0         0.0   \n",
       "A102JNFLL0KW7I                0.0         0.0         0.0         0.0   \n",
       "\n",
       "productid              B00LH25A32  B00LH81A0I  B00LLPT4HI  B00LMOT7X4  \n",
       "userid                                                                 \n",
       "A03364251DGXSGA9PSR99         0.0         0.0         0.0         0.0  \n",
       "A099766128UI0NCS98N1E         0.0         0.0         0.0         0.0  \n",
       "A100WO06OQR8BQ                0.0         0.0         0.0         0.0  \n",
       "A100ZQDV7L8PVV                0.0         0.0         0.0         0.0  \n",
       "A102JNFLL0KW7I                0.0         0.0         0.0         0.0  \n",
       "\n",
       "[5 rows x 42042 columns]"
      ]
     },
     "execution_count": 26,
     "metadata": {},
     "output_type": "execute_result"
    }
   ],
   "source": [
    "final.head()"
   ]
  },
  {
   "cell_type": "markdown",
   "metadata": {},
   "source": [
    "## user cosin similarity"
   ]
  },
  {
   "cell_type": "code",
   "execution_count": 27,
   "metadata": {},
   "outputs": [],
   "source": [
    "##Rank Based Recommendation System"
   ]
  },
  {
   "cell_type": "code",
   "execution_count": 28,
   "metadata": {},
   "outputs": [
    {
     "name": "stdout",
     "output_type": "stream",
     "text": [
      "<class 'pandas.core.frame.DataFrame'>\n",
      "Index: 97860 entries, 5 to 2023047\n",
      "Data columns (total 3 columns):\n",
      " #   Column     Non-Null Count  Dtype  \n",
      "---  ------     --------------  -----  \n",
      " 0   userid     97860 non-null  object \n",
      " 1   productid  97860 non-null  object \n",
      " 2   rating     97860 non-null  float64\n",
      "dtypes: float64(1), object(2)\n",
      "memory usage: 3.0+ MB\n"
     ]
    }
   ],
   "source": [
    "df_final.info()"
   ]
  },
  {
   "cell_type": "code",
   "execution_count": 29,
   "metadata": {},
   "outputs": [
    {
     "data": {
      "text/html": [
       "<div>\n",
       "<style scoped>\n",
       "    .dataframe tbody tr th:only-of-type {\n",
       "        vertical-align: middle;\n",
       "    }\n",
       "\n",
       "    .dataframe tbody tr th {\n",
       "        vertical-align: top;\n",
       "    }\n",
       "\n",
       "    .dataframe thead th {\n",
       "        text-align: right;\n",
       "    }\n",
       "</style>\n",
       "<table border=\"1\" class=\"dataframe\">\n",
       "  <thead>\n",
       "    <tr style=\"text-align: right;\">\n",
       "      <th></th>\n",
       "      <th>userid</th>\n",
       "      <th>productid</th>\n",
       "      <th>rating</th>\n",
       "    </tr>\n",
       "  </thead>\n",
       "  <tbody>\n",
       "    <tr>\n",
       "      <th>5</th>\n",
       "      <td>AKJHHD5VEH7VG</td>\n",
       "      <td>0762451459</td>\n",
       "      <td>5.0</td>\n",
       "    </tr>\n",
       "    <tr>\n",
       "      <th>6</th>\n",
       "      <td>A1BG8QW55XHN6U</td>\n",
       "      <td>1304139212</td>\n",
       "      <td>5.0</td>\n",
       "    </tr>\n",
       "    <tr>\n",
       "      <th>10</th>\n",
       "      <td>A1BG8QW55XHN6U</td>\n",
       "      <td>130414643X</td>\n",
       "      <td>5.0</td>\n",
       "    </tr>\n",
       "    <tr>\n",
       "      <th>19</th>\n",
       "      <td>A1BG8QW55XHN6U</td>\n",
       "      <td>1304174867</td>\n",
       "      <td>5.0</td>\n",
       "    </tr>\n",
       "    <tr>\n",
       "      <th>20</th>\n",
       "      <td>A1BG8QW55XHN6U</td>\n",
       "      <td>1304174905</td>\n",
       "      <td>5.0</td>\n",
       "    </tr>\n",
       "  </tbody>\n",
       "</table>\n",
       "</div>"
      ],
      "text/plain": [
       "            userid   productid  rating\n",
       "5    AKJHHD5VEH7VG  0762451459     5.0\n",
       "6   A1BG8QW55XHN6U  1304139212     5.0\n",
       "10  A1BG8QW55XHN6U  130414643X     5.0\n",
       "19  A1BG8QW55XHN6U  1304174867     5.0\n",
       "20  A1BG8QW55XHN6U  1304174905     5.0"
      ]
     },
     "execution_count": 29,
     "metadata": {},
     "output_type": "execute_result"
    }
   ],
   "source": [
    "df_final.head()"
   ]
  },
  {
   "cell_type": "code",
   "execution_count": 30,
   "metadata": {},
   "outputs": [],
   "source": [
    "average_rating=df_final['rating'].mean()"
   ]
  },
  {
   "cell_type": "code",
   "execution_count": 31,
   "metadata": {},
   "outputs": [
    {
     "data": {
      "text/plain": [
       "4.189863069691396"
      ]
     },
     "execution_count": 31,
     "metadata": {},
     "output_type": "execute_result"
    }
   ],
   "source": [
    "average_rating"
   ]
  },
  {
   "cell_type": "code",
   "execution_count": 32,
   "metadata": {},
   "outputs": [],
   "source": [
    "count_rating = df_final.groupby('productid').count()['rating']"
   ]
  },
  {
   "cell_type": "code",
   "execution_count": 33,
   "metadata": {},
   "outputs": [
    {
     "data": {
      "text/plain": [
       "productid\n",
       "0762451459    1\n",
       "1304139212    1\n",
       "130414643X    1\n",
       "1304174867    1\n",
       "1304174905    1\n",
       "             ..\n",
       "B00LG63DOM    5\n",
       "B00LH25A32    1\n",
       "B00LH81A0I    1\n",
       "B00LLPT4HI    5\n",
       "B00LMOT7X4    1\n",
       "Name: rating, Length: 42042, dtype: int64"
      ]
     },
     "execution_count": 33,
     "metadata": {},
     "output_type": "execute_result"
    }
   ],
   "source": [
    "count_rating"
   ]
  },
  {
   "cell_type": "code",
   "execution_count": 34,
   "metadata": {},
   "outputs": [],
   "source": [
    "av=df_final.groupby('productid')['rating'].mean().sort_values(ascending=False)"
   ]
  },
  {
   "cell_type": "code",
   "execution_count": 35,
   "metadata": {},
   "outputs": [],
   "source": [
    "final_out=pd.DataFrame({'average_rating':av,'rating_count':count_rating})"
   ]
  },
  {
   "cell_type": "code",
   "execution_count": 36,
   "metadata": {},
   "outputs": [
    {
     "data": {
      "text/html": [
       "<div>\n",
       "<style scoped>\n",
       "    .dataframe tbody tr th:only-of-type {\n",
       "        vertical-align: middle;\n",
       "    }\n",
       "\n",
       "    .dataframe tbody tr th {\n",
       "        vertical-align: top;\n",
       "    }\n",
       "\n",
       "    .dataframe thead th {\n",
       "        text-align: right;\n",
       "    }\n",
       "</style>\n",
       "<table border=\"1\" class=\"dataframe\">\n",
       "  <thead>\n",
       "    <tr style=\"text-align: right;\">\n",
       "      <th></th>\n",
       "      <th>average_rating</th>\n",
       "      <th>rating_count</th>\n",
       "    </tr>\n",
       "    <tr>\n",
       "      <th>productid</th>\n",
       "      <th></th>\n",
       "      <th></th>\n",
       "    </tr>\n",
       "  </thead>\n",
       "  <tbody>\n",
       "    <tr>\n",
       "      <th>0762451459</th>\n",
       "      <td>5.0</td>\n",
       "      <td>1</td>\n",
       "    </tr>\n",
       "    <tr>\n",
       "      <th>1304139212</th>\n",
       "      <td>5.0</td>\n",
       "      <td>1</td>\n",
       "    </tr>\n",
       "    <tr>\n",
       "      <th>130414643X</th>\n",
       "      <td>5.0</td>\n",
       "      <td>1</td>\n",
       "    </tr>\n",
       "    <tr>\n",
       "      <th>1304174867</th>\n",
       "      <td>5.0</td>\n",
       "      <td>1</td>\n",
       "    </tr>\n",
       "    <tr>\n",
       "      <th>1304174905</th>\n",
       "      <td>5.0</td>\n",
       "      <td>1</td>\n",
       "    </tr>\n",
       "  </tbody>\n",
       "</table>\n",
       "</div>"
      ],
      "text/plain": [
       "            average_rating  rating_count\n",
       "productid                               \n",
       "0762451459             5.0             1\n",
       "1304139212             5.0             1\n",
       "130414643X             5.0             1\n",
       "1304174867             5.0             1\n",
       "1304174905             5.0             1"
      ]
     },
     "execution_count": 36,
     "metadata": {},
     "output_type": "execute_result"
    }
   ],
   "source": [
    "final_out.head()"
   ]
  },
  {
   "cell_type": "code",
   "execution_count": 37,
   "metadata": {},
   "outputs": [],
   "source": [
    "#defining a function to get the top n products based on highest average rating and minimum interactions\n",
    "def top_n_products(final_rating, n, min_interaction):\n",
    "    recommedation=final_rating[final_rating['rating_count']> min_interaction]\n",
    "    # sorte value\n",
    "    recommedation=recommedation.sort_values('average_rating',ascending=False)\n",
    "    \n",
    "    return recommedation.index[:n]"
   ]
  },
  {
   "cell_type": "markdown",
   "metadata": {},
   "source": [
    "##Recommending top 5 products with 50 minimum interactions based on popularity"
   ]
  },
  {
   "cell_type": "code",
   "execution_count": 38,
   "metadata": {},
   "outputs": [
    {
     "data": {
      "text/plain": [
       "['B0061YRVMO', 'B006GTKSHY', 'B00KHH2VOY', 'B00KH6F6TM', 'B00IT1HKV4']"
      ]
     },
     "execution_count": 38,
     "metadata": {},
     "output_type": "execute_result"
    }
   ],
   "source": [
    "list(top_n_products(final_out,5,22))"
   ]
  },
  {
   "cell_type": "markdown",
   "metadata": {},
   "source": [
    "Recommending top 5 products with 100 minimum interactions based on popularity"
   ]
  },
  {
   "cell_type": "code",
   "execution_count": 39,
   "metadata": {},
   "outputs": [
    {
     "data": {
      "text/plain": [
       "['B009YSSLAU', 'B00639DLV2', 'B009FKNGRA', 'B00A0J084Y', 'B008U2Y9BQ']"
      ]
     },
     "execution_count": 39,
     "metadata": {},
     "output_type": "execute_result"
    }
   ],
   "source": [
    "list(top_n_products(final_out,5,100))"
   ]
  },
  {
   "cell_type": "code",
   "execution_count": 40,
   "metadata": {},
   "outputs": [
    {
     "data": {
      "text/html": [
       "<div>\n",
       "<style scoped>\n",
       "    .dataframe tbody tr th:only-of-type {\n",
       "        vertical-align: middle;\n",
       "    }\n",
       "\n",
       "    .dataframe tbody tr th {\n",
       "        vertical-align: top;\n",
       "    }\n",
       "\n",
       "    .dataframe thead th {\n",
       "        text-align: right;\n",
       "    }\n",
       "</style>\n",
       "<table border=\"1\" class=\"dataframe\">\n",
       "  <thead>\n",
       "    <tr style=\"text-align: right;\">\n",
       "      <th></th>\n",
       "      <th>average_rating</th>\n",
       "      <th>rating_count</th>\n",
       "    </tr>\n",
       "    <tr>\n",
       "      <th>productid</th>\n",
       "      <th></th>\n",
       "      <th></th>\n",
       "    </tr>\n",
       "  </thead>\n",
       "  <tbody>\n",
       "    <tr>\n",
       "      <th>0762451459</th>\n",
       "      <td>5.0</td>\n",
       "      <td>1</td>\n",
       "    </tr>\n",
       "    <tr>\n",
       "      <th>1304139212</th>\n",
       "      <td>5.0</td>\n",
       "      <td>1</td>\n",
       "    </tr>\n",
       "    <tr>\n",
       "      <th>130414643X</th>\n",
       "      <td>5.0</td>\n",
       "      <td>1</td>\n",
       "    </tr>\n",
       "    <tr>\n",
       "      <th>1304174867</th>\n",
       "      <td>5.0</td>\n",
       "      <td>1</td>\n",
       "    </tr>\n",
       "    <tr>\n",
       "      <th>1304174905</th>\n",
       "      <td>5.0</td>\n",
       "      <td>1</td>\n",
       "    </tr>\n",
       "  </tbody>\n",
       "</table>\n",
       "</div>"
      ],
      "text/plain": [
       "            average_rating  rating_count\n",
       "productid                               \n",
       "0762451459             5.0             1\n",
       "1304139212             5.0             1\n",
       "130414643X             5.0             1\n",
       "1304174867             5.0             1\n",
       "1304174905             5.0             1"
      ]
     },
     "execution_count": 40,
     "metadata": {},
     "output_type": "execute_result"
    }
   ],
   "source": [
    "final_out.head()"
   ]
  },
  {
   "cell_type": "code",
   "execution_count": 41,
   "metadata": {},
   "outputs": [
    {
     "data": {
      "text/html": [
       "<div>\n",
       "<style scoped>\n",
       "    .dataframe tbody tr th:only-of-type {\n",
       "        vertical-align: middle;\n",
       "    }\n",
       "\n",
       "    .dataframe tbody tr th {\n",
       "        vertical-align: top;\n",
       "    }\n",
       "\n",
       "    .dataframe thead th {\n",
       "        text-align: right;\n",
       "    }\n",
       "</style>\n",
       "<table border=\"1\" class=\"dataframe\">\n",
       "  <thead>\n",
       "    <tr style=\"text-align: right;\">\n",
       "      <th>productid</th>\n",
       "      <th>0762451459</th>\n",
       "      <th>1304139212</th>\n",
       "      <th>130414643X</th>\n",
       "      <th>1304174867</th>\n",
       "      <th>1304174905</th>\n",
       "      <th>1304351475</th>\n",
       "      <th>1304482596</th>\n",
       "      <th>1304482685</th>\n",
       "      <th>1304495396</th>\n",
       "      <th>1304511111</th>\n",
       "      <th>...</th>\n",
       "      <th>B00L4I5PJS</th>\n",
       "      <th>B00L5BXG36</th>\n",
       "      <th>B00L5JHZJO</th>\n",
       "      <th>B00L5KTZ0K</th>\n",
       "      <th>B00L7BX4FE</th>\n",
       "      <th>B00LG63DOM</th>\n",
       "      <th>B00LH25A32</th>\n",
       "      <th>B00LH81A0I</th>\n",
       "      <th>B00LLPT4HI</th>\n",
       "      <th>B00LMOT7X4</th>\n",
       "    </tr>\n",
       "    <tr>\n",
       "      <th>userid</th>\n",
       "      <th></th>\n",
       "      <th></th>\n",
       "      <th></th>\n",
       "      <th></th>\n",
       "      <th></th>\n",
       "      <th></th>\n",
       "      <th></th>\n",
       "      <th></th>\n",
       "      <th></th>\n",
       "      <th></th>\n",
       "      <th></th>\n",
       "      <th></th>\n",
       "      <th></th>\n",
       "      <th></th>\n",
       "      <th></th>\n",
       "      <th></th>\n",
       "      <th></th>\n",
       "      <th></th>\n",
       "      <th></th>\n",
       "      <th></th>\n",
       "      <th></th>\n",
       "    </tr>\n",
       "  </thead>\n",
       "  <tbody>\n",
       "    <tr>\n",
       "      <th>A03364251DGXSGA9PSR99</th>\n",
       "      <td>0.0</td>\n",
       "      <td>0.0</td>\n",
       "      <td>0.0</td>\n",
       "      <td>0.0</td>\n",
       "      <td>0.0</td>\n",
       "      <td>0.0</td>\n",
       "      <td>0.0</td>\n",
       "      <td>0.0</td>\n",
       "      <td>0.0</td>\n",
       "      <td>0.0</td>\n",
       "      <td>...</td>\n",
       "      <td>0.0</td>\n",
       "      <td>0.0</td>\n",
       "      <td>0.0</td>\n",
       "      <td>0.0</td>\n",
       "      <td>0.0</td>\n",
       "      <td>0.0</td>\n",
       "      <td>0.0</td>\n",
       "      <td>0.0</td>\n",
       "      <td>0.0</td>\n",
       "      <td>0.0</td>\n",
       "    </tr>\n",
       "    <tr>\n",
       "      <th>A099766128UI0NCS98N1E</th>\n",
       "      <td>0.0</td>\n",
       "      <td>0.0</td>\n",
       "      <td>0.0</td>\n",
       "      <td>0.0</td>\n",
       "      <td>0.0</td>\n",
       "      <td>0.0</td>\n",
       "      <td>0.0</td>\n",
       "      <td>0.0</td>\n",
       "      <td>0.0</td>\n",
       "      <td>0.0</td>\n",
       "      <td>...</td>\n",
       "      <td>0.0</td>\n",
       "      <td>0.0</td>\n",
       "      <td>0.0</td>\n",
       "      <td>0.0</td>\n",
       "      <td>0.0</td>\n",
       "      <td>0.0</td>\n",
       "      <td>0.0</td>\n",
       "      <td>0.0</td>\n",
       "      <td>0.0</td>\n",
       "      <td>0.0</td>\n",
       "    </tr>\n",
       "    <tr>\n",
       "      <th>A100WO06OQR8BQ</th>\n",
       "      <td>0.0</td>\n",
       "      <td>0.0</td>\n",
       "      <td>0.0</td>\n",
       "      <td>0.0</td>\n",
       "      <td>0.0</td>\n",
       "      <td>0.0</td>\n",
       "      <td>0.0</td>\n",
       "      <td>0.0</td>\n",
       "      <td>0.0</td>\n",
       "      <td>0.0</td>\n",
       "      <td>...</td>\n",
       "      <td>0.0</td>\n",
       "      <td>0.0</td>\n",
       "      <td>0.0</td>\n",
       "      <td>0.0</td>\n",
       "      <td>0.0</td>\n",
       "      <td>0.0</td>\n",
       "      <td>0.0</td>\n",
       "      <td>0.0</td>\n",
       "      <td>0.0</td>\n",
       "      <td>0.0</td>\n",
       "    </tr>\n",
       "    <tr>\n",
       "      <th>A100ZQDV7L8PVV</th>\n",
       "      <td>0.0</td>\n",
       "      <td>0.0</td>\n",
       "      <td>0.0</td>\n",
       "      <td>0.0</td>\n",
       "      <td>0.0</td>\n",
       "      <td>0.0</td>\n",
       "      <td>0.0</td>\n",
       "      <td>0.0</td>\n",
       "      <td>0.0</td>\n",
       "      <td>0.0</td>\n",
       "      <td>...</td>\n",
       "      <td>0.0</td>\n",
       "      <td>0.0</td>\n",
       "      <td>0.0</td>\n",
       "      <td>0.0</td>\n",
       "      <td>0.0</td>\n",
       "      <td>0.0</td>\n",
       "      <td>0.0</td>\n",
       "      <td>0.0</td>\n",
       "      <td>0.0</td>\n",
       "      <td>0.0</td>\n",
       "    </tr>\n",
       "    <tr>\n",
       "      <th>A102JNFLL0KW7I</th>\n",
       "      <td>0.0</td>\n",
       "      <td>0.0</td>\n",
       "      <td>0.0</td>\n",
       "      <td>0.0</td>\n",
       "      <td>0.0</td>\n",
       "      <td>0.0</td>\n",
       "      <td>0.0</td>\n",
       "      <td>0.0</td>\n",
       "      <td>0.0</td>\n",
       "      <td>0.0</td>\n",
       "      <td>...</td>\n",
       "      <td>0.0</td>\n",
       "      <td>0.0</td>\n",
       "      <td>0.0</td>\n",
       "      <td>0.0</td>\n",
       "      <td>0.0</td>\n",
       "      <td>0.0</td>\n",
       "      <td>0.0</td>\n",
       "      <td>0.0</td>\n",
       "      <td>0.0</td>\n",
       "      <td>0.0</td>\n",
       "    </tr>\n",
       "    <tr>\n",
       "      <th>...</th>\n",
       "      <td>...</td>\n",
       "      <td>...</td>\n",
       "      <td>...</td>\n",
       "      <td>...</td>\n",
       "      <td>...</td>\n",
       "      <td>...</td>\n",
       "      <td>...</td>\n",
       "      <td>...</td>\n",
       "      <td>...</td>\n",
       "      <td>...</td>\n",
       "      <td>...</td>\n",
       "      <td>...</td>\n",
       "      <td>...</td>\n",
       "      <td>...</td>\n",
       "      <td>...</td>\n",
       "      <td>...</td>\n",
       "      <td>...</td>\n",
       "      <td>...</td>\n",
       "      <td>...</td>\n",
       "      <td>...</td>\n",
       "      <td>...</td>\n",
       "    </tr>\n",
       "    <tr>\n",
       "      <th>AZIDXJ9F7A83Z</th>\n",
       "      <td>0.0</td>\n",
       "      <td>0.0</td>\n",
       "      <td>0.0</td>\n",
       "      <td>0.0</td>\n",
       "      <td>0.0</td>\n",
       "      <td>0.0</td>\n",
       "      <td>0.0</td>\n",
       "      <td>0.0</td>\n",
       "      <td>0.0</td>\n",
       "      <td>0.0</td>\n",
       "      <td>...</td>\n",
       "      <td>0.0</td>\n",
       "      <td>0.0</td>\n",
       "      <td>0.0</td>\n",
       "      <td>0.0</td>\n",
       "      <td>0.0</td>\n",
       "      <td>0.0</td>\n",
       "      <td>0.0</td>\n",
       "      <td>0.0</td>\n",
       "      <td>0.0</td>\n",
       "      <td>0.0</td>\n",
       "    </tr>\n",
       "    <tr>\n",
       "      <th>AZIJ44I4NIO5M</th>\n",
       "      <td>0.0</td>\n",
       "      <td>0.0</td>\n",
       "      <td>0.0</td>\n",
       "      <td>0.0</td>\n",
       "      <td>0.0</td>\n",
       "      <td>0.0</td>\n",
       "      <td>0.0</td>\n",
       "      <td>0.0</td>\n",
       "      <td>0.0</td>\n",
       "      <td>0.0</td>\n",
       "      <td>...</td>\n",
       "      <td>0.0</td>\n",
       "      <td>0.0</td>\n",
       "      <td>0.0</td>\n",
       "      <td>0.0</td>\n",
       "      <td>0.0</td>\n",
       "      <td>0.0</td>\n",
       "      <td>0.0</td>\n",
       "      <td>0.0</td>\n",
       "      <td>0.0</td>\n",
       "      <td>0.0</td>\n",
       "    </tr>\n",
       "    <tr>\n",
       "      <th>AZMMFZKJB8PV6</th>\n",
       "      <td>0.0</td>\n",
       "      <td>0.0</td>\n",
       "      <td>0.0</td>\n",
       "      <td>0.0</td>\n",
       "      <td>0.0</td>\n",
       "      <td>0.0</td>\n",
       "      <td>0.0</td>\n",
       "      <td>0.0</td>\n",
       "      <td>0.0</td>\n",
       "      <td>0.0</td>\n",
       "      <td>...</td>\n",
       "      <td>0.0</td>\n",
       "      <td>0.0</td>\n",
       "      <td>0.0</td>\n",
       "      <td>0.0</td>\n",
       "      <td>0.0</td>\n",
       "      <td>0.0</td>\n",
       "      <td>0.0</td>\n",
       "      <td>0.0</td>\n",
       "      <td>0.0</td>\n",
       "      <td>0.0</td>\n",
       "    </tr>\n",
       "    <tr>\n",
       "      <th>AZOO27I3Z0IQO</th>\n",
       "      <td>0.0</td>\n",
       "      <td>0.0</td>\n",
       "      <td>0.0</td>\n",
       "      <td>0.0</td>\n",
       "      <td>0.0</td>\n",
       "      <td>0.0</td>\n",
       "      <td>0.0</td>\n",
       "      <td>0.0</td>\n",
       "      <td>0.0</td>\n",
       "      <td>0.0</td>\n",
       "      <td>...</td>\n",
       "      <td>0.0</td>\n",
       "      <td>0.0</td>\n",
       "      <td>0.0</td>\n",
       "      <td>0.0</td>\n",
       "      <td>0.0</td>\n",
       "      <td>0.0</td>\n",
       "      <td>0.0</td>\n",
       "      <td>0.0</td>\n",
       "      <td>0.0</td>\n",
       "      <td>0.0</td>\n",
       "    </tr>\n",
       "    <tr>\n",
       "      <th>AZZT1ERHBSNQ8</th>\n",
       "      <td>0.0</td>\n",
       "      <td>0.0</td>\n",
       "      <td>0.0</td>\n",
       "      <td>0.0</td>\n",
       "      <td>0.0</td>\n",
       "      <td>0.0</td>\n",
       "      <td>0.0</td>\n",
       "      <td>0.0</td>\n",
       "      <td>0.0</td>\n",
       "      <td>0.0</td>\n",
       "      <td>...</td>\n",
       "      <td>0.0</td>\n",
       "      <td>0.0</td>\n",
       "      <td>0.0</td>\n",
       "      <td>0.0</td>\n",
       "      <td>0.0</td>\n",
       "      <td>0.0</td>\n",
       "      <td>0.0</td>\n",
       "      <td>0.0</td>\n",
       "      <td>0.0</td>\n",
       "      <td>0.0</td>\n",
       "    </tr>\n",
       "  </tbody>\n",
       "</table>\n",
       "<p>2826 rows × 42042 columns</p>\n",
       "</div>"
      ],
      "text/plain": [
       "productid              0762451459  1304139212  130414643X  1304174867  \\\n",
       "userid                                                                  \n",
       "A03364251DGXSGA9PSR99         0.0         0.0         0.0         0.0   \n",
       "A099766128UI0NCS98N1E         0.0         0.0         0.0         0.0   \n",
       "A100WO06OQR8BQ                0.0         0.0         0.0         0.0   \n",
       "A100ZQDV7L8PVV                0.0         0.0         0.0         0.0   \n",
       "A102JNFLL0KW7I                0.0         0.0         0.0         0.0   \n",
       "...                           ...         ...         ...         ...   \n",
       "AZIDXJ9F7A83Z                 0.0         0.0         0.0         0.0   \n",
       "AZIJ44I4NIO5M                 0.0         0.0         0.0         0.0   \n",
       "AZMMFZKJB8PV6                 0.0         0.0         0.0         0.0   \n",
       "AZOO27I3Z0IQO                 0.0         0.0         0.0         0.0   \n",
       "AZZT1ERHBSNQ8                 0.0         0.0         0.0         0.0   \n",
       "\n",
       "productid              1304174905  1304351475  1304482596  1304482685  \\\n",
       "userid                                                                  \n",
       "A03364251DGXSGA9PSR99         0.0         0.0         0.0         0.0   \n",
       "A099766128UI0NCS98N1E         0.0         0.0         0.0         0.0   \n",
       "A100WO06OQR8BQ                0.0         0.0         0.0         0.0   \n",
       "A100ZQDV7L8PVV                0.0         0.0         0.0         0.0   \n",
       "A102JNFLL0KW7I                0.0         0.0         0.0         0.0   \n",
       "...                           ...         ...         ...         ...   \n",
       "AZIDXJ9F7A83Z                 0.0         0.0         0.0         0.0   \n",
       "AZIJ44I4NIO5M                 0.0         0.0         0.0         0.0   \n",
       "AZMMFZKJB8PV6                 0.0         0.0         0.0         0.0   \n",
       "AZOO27I3Z0IQO                 0.0         0.0         0.0         0.0   \n",
       "AZZT1ERHBSNQ8                 0.0         0.0         0.0         0.0   \n",
       "\n",
       "productid              1304495396  1304511111  ...  B00L4I5PJS  B00L5BXG36  \\\n",
       "userid                                         ...                           \n",
       "A03364251DGXSGA9PSR99         0.0         0.0  ...         0.0         0.0   \n",
       "A099766128UI0NCS98N1E         0.0         0.0  ...         0.0         0.0   \n",
       "A100WO06OQR8BQ                0.0         0.0  ...         0.0         0.0   \n",
       "A100ZQDV7L8PVV                0.0         0.0  ...         0.0         0.0   \n",
       "A102JNFLL0KW7I                0.0         0.0  ...         0.0         0.0   \n",
       "...                           ...         ...  ...         ...         ...   \n",
       "AZIDXJ9F7A83Z                 0.0         0.0  ...         0.0         0.0   \n",
       "AZIJ44I4NIO5M                 0.0         0.0  ...         0.0         0.0   \n",
       "AZMMFZKJB8PV6                 0.0         0.0  ...         0.0         0.0   \n",
       "AZOO27I3Z0IQO                 0.0         0.0  ...         0.0         0.0   \n",
       "AZZT1ERHBSNQ8                 0.0         0.0  ...         0.0         0.0   \n",
       "\n",
       "productid              B00L5JHZJO  B00L5KTZ0K  B00L7BX4FE  B00LG63DOM  \\\n",
       "userid                                                                  \n",
       "A03364251DGXSGA9PSR99         0.0         0.0         0.0         0.0   \n",
       "A099766128UI0NCS98N1E         0.0         0.0         0.0         0.0   \n",
       "A100WO06OQR8BQ                0.0         0.0         0.0         0.0   \n",
       "A100ZQDV7L8PVV                0.0         0.0         0.0         0.0   \n",
       "A102JNFLL0KW7I                0.0         0.0         0.0         0.0   \n",
       "...                           ...         ...         ...         ...   \n",
       "AZIDXJ9F7A83Z                 0.0         0.0         0.0         0.0   \n",
       "AZIJ44I4NIO5M                 0.0         0.0         0.0         0.0   \n",
       "AZMMFZKJB8PV6                 0.0         0.0         0.0         0.0   \n",
       "AZOO27I3Z0IQO                 0.0         0.0         0.0         0.0   \n",
       "AZZT1ERHBSNQ8                 0.0         0.0         0.0         0.0   \n",
       "\n",
       "productid              B00LH25A32  B00LH81A0I  B00LLPT4HI  B00LMOT7X4  \n",
       "userid                                                                 \n",
       "A03364251DGXSGA9PSR99         0.0         0.0         0.0         0.0  \n",
       "A099766128UI0NCS98N1E         0.0         0.0         0.0         0.0  \n",
       "A100WO06OQR8BQ                0.0         0.0         0.0         0.0  \n",
       "A100ZQDV7L8PVV                0.0         0.0         0.0         0.0  \n",
       "A102JNFLL0KW7I                0.0         0.0         0.0         0.0  \n",
       "...                           ...         ...         ...         ...  \n",
       "AZIDXJ9F7A83Z                 0.0         0.0         0.0         0.0  \n",
       "AZIJ44I4NIO5M                 0.0         0.0         0.0         0.0  \n",
       "AZMMFZKJB8PV6                 0.0         0.0         0.0         0.0  \n",
       "AZOO27I3Z0IQO                 0.0         0.0         0.0         0.0  \n",
       "AZZT1ERHBSNQ8                 0.0         0.0         0.0         0.0  \n",
       "\n",
       "[2826 rows x 42042 columns]"
      ]
     },
     "execution_count": 41,
     "metadata": {},
     "output_type": "execute_result"
    }
   ],
   "source": [
    "final"
   ]
  },
  {
   "cell_type": "code",
   "execution_count": 42,
   "metadata": {},
   "outputs": [],
   "source": [
    "final['user_index']=np.arange(0,final.shape[0])\n",
    "final.set_index(['user_index'],inplace=True)"
   ]
  },
  {
   "cell_type": "code",
   "execution_count": 43,
   "metadata": {},
   "outputs": [
    {
     "data": {
      "text/html": [
       "<div>\n",
       "<style scoped>\n",
       "    .dataframe tbody tr th:only-of-type {\n",
       "        vertical-align: middle;\n",
       "    }\n",
       "\n",
       "    .dataframe tbody tr th {\n",
       "        vertical-align: top;\n",
       "    }\n",
       "\n",
       "    .dataframe thead th {\n",
       "        text-align: right;\n",
       "    }\n",
       "</style>\n",
       "<table border=\"1\" class=\"dataframe\">\n",
       "  <thead>\n",
       "    <tr style=\"text-align: right;\">\n",
       "      <th>productid</th>\n",
       "      <th>0762451459</th>\n",
       "      <th>1304139212</th>\n",
       "      <th>130414643X</th>\n",
       "      <th>1304174867</th>\n",
       "      <th>1304174905</th>\n",
       "      <th>1304351475</th>\n",
       "      <th>1304482596</th>\n",
       "      <th>1304482685</th>\n",
       "      <th>1304495396</th>\n",
       "      <th>1304511111</th>\n",
       "      <th>...</th>\n",
       "      <th>B00L4I5PJS</th>\n",
       "      <th>B00L5BXG36</th>\n",
       "      <th>B00L5JHZJO</th>\n",
       "      <th>B00L5KTZ0K</th>\n",
       "      <th>B00L7BX4FE</th>\n",
       "      <th>B00LG63DOM</th>\n",
       "      <th>B00LH25A32</th>\n",
       "      <th>B00LH81A0I</th>\n",
       "      <th>B00LLPT4HI</th>\n",
       "      <th>B00LMOT7X4</th>\n",
       "    </tr>\n",
       "    <tr>\n",
       "      <th>user_index</th>\n",
       "      <th></th>\n",
       "      <th></th>\n",
       "      <th></th>\n",
       "      <th></th>\n",
       "      <th></th>\n",
       "      <th></th>\n",
       "      <th></th>\n",
       "      <th></th>\n",
       "      <th></th>\n",
       "      <th></th>\n",
       "      <th></th>\n",
       "      <th></th>\n",
       "      <th></th>\n",
       "      <th></th>\n",
       "      <th></th>\n",
       "      <th></th>\n",
       "      <th></th>\n",
       "      <th></th>\n",
       "      <th></th>\n",
       "      <th></th>\n",
       "      <th></th>\n",
       "    </tr>\n",
       "  </thead>\n",
       "  <tbody>\n",
       "    <tr>\n",
       "      <th>0</th>\n",
       "      <td>0.0</td>\n",
       "      <td>0.0</td>\n",
       "      <td>0.0</td>\n",
       "      <td>0.0</td>\n",
       "      <td>0.0</td>\n",
       "      <td>0.0</td>\n",
       "      <td>0.0</td>\n",
       "      <td>0.0</td>\n",
       "      <td>0.0</td>\n",
       "      <td>0.0</td>\n",
       "      <td>...</td>\n",
       "      <td>0.0</td>\n",
       "      <td>0.0</td>\n",
       "      <td>0.0</td>\n",
       "      <td>0.0</td>\n",
       "      <td>0.0</td>\n",
       "      <td>0.0</td>\n",
       "      <td>0.0</td>\n",
       "      <td>0.0</td>\n",
       "      <td>0.0</td>\n",
       "      <td>0.0</td>\n",
       "    </tr>\n",
       "    <tr>\n",
       "      <th>1</th>\n",
       "      <td>0.0</td>\n",
       "      <td>0.0</td>\n",
       "      <td>0.0</td>\n",
       "      <td>0.0</td>\n",
       "      <td>0.0</td>\n",
       "      <td>0.0</td>\n",
       "      <td>0.0</td>\n",
       "      <td>0.0</td>\n",
       "      <td>0.0</td>\n",
       "      <td>0.0</td>\n",
       "      <td>...</td>\n",
       "      <td>0.0</td>\n",
       "      <td>0.0</td>\n",
       "      <td>0.0</td>\n",
       "      <td>0.0</td>\n",
       "      <td>0.0</td>\n",
       "      <td>0.0</td>\n",
       "      <td>0.0</td>\n",
       "      <td>0.0</td>\n",
       "      <td>0.0</td>\n",
       "      <td>0.0</td>\n",
       "    </tr>\n",
       "    <tr>\n",
       "      <th>2</th>\n",
       "      <td>0.0</td>\n",
       "      <td>0.0</td>\n",
       "      <td>0.0</td>\n",
       "      <td>0.0</td>\n",
       "      <td>0.0</td>\n",
       "      <td>0.0</td>\n",
       "      <td>0.0</td>\n",
       "      <td>0.0</td>\n",
       "      <td>0.0</td>\n",
       "      <td>0.0</td>\n",
       "      <td>...</td>\n",
       "      <td>0.0</td>\n",
       "      <td>0.0</td>\n",
       "      <td>0.0</td>\n",
       "      <td>0.0</td>\n",
       "      <td>0.0</td>\n",
       "      <td>0.0</td>\n",
       "      <td>0.0</td>\n",
       "      <td>0.0</td>\n",
       "      <td>0.0</td>\n",
       "      <td>0.0</td>\n",
       "    </tr>\n",
       "    <tr>\n",
       "      <th>3</th>\n",
       "      <td>0.0</td>\n",
       "      <td>0.0</td>\n",
       "      <td>0.0</td>\n",
       "      <td>0.0</td>\n",
       "      <td>0.0</td>\n",
       "      <td>0.0</td>\n",
       "      <td>0.0</td>\n",
       "      <td>0.0</td>\n",
       "      <td>0.0</td>\n",
       "      <td>0.0</td>\n",
       "      <td>...</td>\n",
       "      <td>0.0</td>\n",
       "      <td>0.0</td>\n",
       "      <td>0.0</td>\n",
       "      <td>0.0</td>\n",
       "      <td>0.0</td>\n",
       "      <td>0.0</td>\n",
       "      <td>0.0</td>\n",
       "      <td>0.0</td>\n",
       "      <td>0.0</td>\n",
       "      <td>0.0</td>\n",
       "    </tr>\n",
       "    <tr>\n",
       "      <th>4</th>\n",
       "      <td>0.0</td>\n",
       "      <td>0.0</td>\n",
       "      <td>0.0</td>\n",
       "      <td>0.0</td>\n",
       "      <td>0.0</td>\n",
       "      <td>0.0</td>\n",
       "      <td>0.0</td>\n",
       "      <td>0.0</td>\n",
       "      <td>0.0</td>\n",
       "      <td>0.0</td>\n",
       "      <td>...</td>\n",
       "      <td>0.0</td>\n",
       "      <td>0.0</td>\n",
       "      <td>0.0</td>\n",
       "      <td>0.0</td>\n",
       "      <td>0.0</td>\n",
       "      <td>0.0</td>\n",
       "      <td>0.0</td>\n",
       "      <td>0.0</td>\n",
       "      <td>0.0</td>\n",
       "      <td>0.0</td>\n",
       "    </tr>\n",
       "  </tbody>\n",
       "</table>\n",
       "<p>5 rows × 42042 columns</p>\n",
       "</div>"
      ],
      "text/plain": [
       "productid   0762451459  1304139212  130414643X  1304174867  1304174905  \\\n",
       "user_index                                                               \n",
       "0                  0.0         0.0         0.0         0.0         0.0   \n",
       "1                  0.0         0.0         0.0         0.0         0.0   \n",
       "2                  0.0         0.0         0.0         0.0         0.0   \n",
       "3                  0.0         0.0         0.0         0.0         0.0   \n",
       "4                  0.0         0.0         0.0         0.0         0.0   \n",
       "\n",
       "productid   1304351475  1304482596  1304482685  1304495396  1304511111  ...  \\\n",
       "user_index                                                              ...   \n",
       "0                  0.0         0.0         0.0         0.0         0.0  ...   \n",
       "1                  0.0         0.0         0.0         0.0         0.0  ...   \n",
       "2                  0.0         0.0         0.0         0.0         0.0  ...   \n",
       "3                  0.0         0.0         0.0         0.0         0.0  ...   \n",
       "4                  0.0         0.0         0.0         0.0         0.0  ...   \n",
       "\n",
       "productid   B00L4I5PJS  B00L5BXG36  B00L5JHZJO  B00L5KTZ0K  B00L7BX4FE  \\\n",
       "user_index                                                               \n",
       "0                  0.0         0.0         0.0         0.0         0.0   \n",
       "1                  0.0         0.0         0.0         0.0         0.0   \n",
       "2                  0.0         0.0         0.0         0.0         0.0   \n",
       "3                  0.0         0.0         0.0         0.0         0.0   \n",
       "4                  0.0         0.0         0.0         0.0         0.0   \n",
       "\n",
       "productid   B00LG63DOM  B00LH25A32  B00LH81A0I  B00LLPT4HI  B00LMOT7X4  \n",
       "user_index                                                              \n",
       "0                  0.0         0.0         0.0         0.0         0.0  \n",
       "1                  0.0         0.0         0.0         0.0         0.0  \n",
       "2                  0.0         0.0         0.0         0.0         0.0  \n",
       "3                  0.0         0.0         0.0         0.0         0.0  \n",
       "4                  0.0         0.0         0.0         0.0         0.0  \n",
       "\n",
       "[5 rows x 42042 columns]"
      ]
     },
     "execution_count": 43,
     "metadata": {},
     "output_type": "execute_result"
    }
   ],
   "source": [
    "final.head()"
   ]
  },
  {
   "cell_type": "markdown",
   "metadata": {},
   "source": [
    "#Function to find Similar users and their similarity scores"
   ]
  },
  {
   "cell_type": "code",
   "execution_count": 44,
   "metadata": {},
   "outputs": [],
   "source": [
    "#  defining a function to get similar users\n",
    "def similar_user(user_index,interactions):\n",
    "    similarity=[]\n",
    "    for user in  range(0,interactions.shape[0]):\n",
    "        sim=cosine_similarity([interactions.loc[user_index]],[interactions.loc[user]])\n",
    "        similarity.append((user,sim))\n",
    "    similarity.sort(key=lambda x: x[1], reverse=True)\n",
    "    most_similar_users = [tup[0] for tup in similarity] #Extract the user from each tuple in the sorted list\n",
    "    similarity_score = [tup[1] for tup in similarity] ##Extracting the similarity score from each tuple in the sorted list\n",
    "   \n",
    "    #Remove the original user and its similarity score and keep only other similar users \n",
    "    most_similar_users.remove(user_index)\n",
    "    similarity_score.remove(similarity_score[0])\n",
    "    return  most_similar_users,similarity_score\n",
    "           "
   ]
  },
  {
   "cell_type": "markdown",
   "metadata": {},
   "source": [
    "## Finding out top 10 similar users to the user index 3 and their similarity score"
   ]
  },
  {
   "cell_type": "code",
   "execution_count": 45,
   "metadata": {},
   "outputs": [
    {
     "name": "stdout",
     "output_type": "stream",
     "text": [
      "[1591, 1710, 673, 659, 91, 1908, 129, 1981, 1265, 728]\n"
     ]
    }
   ],
   "source": [
    "similer=similar_user(3, final)[0][0:10]\n",
    "print(similer)"
   ]
  },
  {
   "cell_type": "code",
   "execution_count": 46,
   "metadata": {},
   "outputs": [
    {
     "data": {
      "text/plain": [
       "[array([[0.14596725]]),\n",
       " array([[0.143499]]),\n",
       " array([[0.14118197]]),\n",
       " array([[0.12904335]]),\n",
       " array([[0.12165177]]),\n",
       " array([[0.11913869]]),\n",
       " array([[0.11730807]]),\n",
       " array([[0.11217961]]),\n",
       " array([[0.11113415]]),\n",
       " array([[0.10844601]])]"
      ]
     },
     "execution_count": 46,
     "metadata": {},
     "output_type": "execute_result"
    }
   ],
   "source": [
    "similar_user(3,final)[1][0:10]"
   ]
  },
  {
   "cell_type": "markdown",
   "metadata": {},
   "source": [
    "#Finding out top 10 similar users to the user index 1591 and their similarity score"
   ]
  },
  {
   "cell_type": "code",
   "execution_count": 47,
   "metadata": {},
   "outputs": [
    {
     "name": "stdout",
     "output_type": "stream",
     "text": [
      "[2655, 1924, 1781, 2033, 246, 2379, 773, 2819, 905, 766]\n"
     ]
    }
   ],
   "source": [
    "similer=similar_user(1591,final)[0][0:10]\n",
    "print(similer)"
   ]
  },
  {
   "cell_type": "code",
   "execution_count": 48,
   "metadata": {},
   "outputs": [
    {
     "data": {
      "text/plain": [
       "[array([[0.19679148]]),\n",
       " array([[0.1866314]]),\n",
       " array([[0.18634179]]),\n",
       " array([[0.18031013]]),\n",
       " array([[0.17350609]]),\n",
       " array([[0.1720455]]),\n",
       " array([[0.16610655]]),\n",
       " array([[0.16606521]]),\n",
       " array([[0.16394796]]),\n",
       " array([[0.1595271]])]"
      ]
     },
     "execution_count": 48,
     "metadata": {},
     "output_type": "execute_result"
    }
   ],
   "source": [
    "#Print the similarity score\n",
    "similar_user(1591,final)[1][0:10]"
   ]
  },
  {
   "cell_type": "markdown",
   "metadata": {},
   "source": [
    "## Function to recommend products"
   ]
  },
  {
   "cell_type": "code",
   "execution_count": 49,
   "metadata": {},
   "outputs": [],
   "source": [
    "\n",
    "\n",
    "def recommendations(user_index, num_of_products, interactions_matrix):\n",
    "    def similar_user(user_index, interactions_matrix):\n",
    "        similarity = []\n",
    "        for user in range(0, interactions_matrix.shape[0]): #  .shape[0] gives number of rows\n",
    "        \n",
    "        #finding cosine similarity between the user_id and each user\n",
    "            sim = cosine_similarity([interactions_matrix.loc[user_index]], [interactions_matrix.loc[user]])\n",
    "        \n",
    "        #Appending the user and the corresponding similarity score with user_id as a tuple\n",
    "            similarity.append((user,sim))\n",
    "        \n",
    "        similarity.sort(key=lambda x: x[1], reverse=True)\n",
    "        most_similar_users = [tup[0] for tup in similarity] #Extract the user from each tuple in the sorted list\n",
    "        similarity_score = [tup[1] for tup in similarity] ##Extracting the similarity score from each tuple in the sorted list\n",
    "   \n",
    "    #Remove the original user and its similarity score and keep only other similar users \n",
    "        most_similar_users.remove(user_index)\n",
    "        similarity_score.remove(similarity_score[0])\n",
    "       \n",
    "        return most_similar_users, similarity_score\n",
    "     \n",
    "    \n",
    "    #Saving similar users using the function similar_users defined above\n",
    "    most_similar_users = similar_user(user_index, interactions_matrix)[0]\n",
    "    \n",
    "    #Finding product IDs with which the user_id has interacted\n",
    "    prod_ids = set(list(interactions_matrix.columns[np.where(interactions_matrix.loc[user_index] > 0)]))\n",
    "    recommendations = []\n",
    "    \n",
    "    observed_interactions = prod_ids.copy()\n",
    "    for similar_user in most_similar_users:\n",
    "        if len(recommendations) < num_of_products:\n",
    "            \n",
    "            #Finding 'n' products which have been rated by similar users but not by the user_id\n",
    "            similar_user_prod_ids = set(list(interactions_matrix.columns[np.where(interactions_matrix.loc[similar_user] > 0)]))\n",
    "            recommendations.extend(list(similar_user_prod_ids.difference(observed_interactions)))\n",
    "            observed_interactions = observed_interactions.union(similar_user_prod_ids)\n",
    "        else:\n",
    "            break\n",
    "    \n",
    "    return recommendations[:num_of_products]\n"
   ]
  },
  {
   "cell_type": "code",
   "execution_count": 50,
   "metadata": {},
   "outputs": [
    {
     "data": {
      "text/plain": [
       "['B00AE07FUO', 'B00GMWMMOW', 'B00BB8ZHJE', 'B00AO4E9E0', 'B00HM6IV6K']"
      ]
     },
     "execution_count": 50,
     "metadata": {},
     "output_type": "execute_result"
    }
   ],
   "source": [
    "recommendations(3,5 ,final)"
   ]
  },
  {
   "cell_type": "markdown",
   "metadata": {},
   "source": [
    "Recommend 5 products to user index 3 based on similarity based collaborative filtering"
   ]
  },
  {
   "cell_type": "markdown",
   "metadata": {},
   "source": [
    "Recommend 5 products to user index 1591 based on similarity based collaborative filtering"
   ]
  },
  {
   "cell_type": "code",
   "execution_count": 51,
   "metadata": {},
   "outputs": [
    {
     "data": {
      "text/plain": [
       "['B00EA4MHN0', 'B00GTC0IY6', 'B0094C4XOO', 'B006RFZ9IK', 'B00FRDPNA2']"
      ]
     },
     "execution_count": 51,
     "metadata": {},
     "output_type": "execute_result"
    }
   ],
   "source": [
    "recommendations(1591,5,final)"
   ]
  },
  {
   "cell_type": "markdown",
   "metadata": {},
   "source": [
    "## Model based Collaborative Filtering: Singular Value Decomposition"
   ]
  },
  {
   "cell_type": "markdown",
   "metadata": {},
   "source": [
    "We have seen above that the interaction matrix is highly sparse. SVD is best to apply on a large sparse matrix. Note that for sparse matrices, we can use the sparse.linalg.svds() function to perform the decomposition\n",
    "\n",
    "Also, we will use k=50 latent features to predict rating of products"
   ]
  },
  {
   "cell_type": "code",
   "execution_count": 52,
   "metadata": {},
   "outputs": [],
   "source": [
    "# csr matirx\n",
    "from scipy.sparse import csr_matrix"
   ]
  },
  {
   "cell_type": "code",
   "execution_count": 53,
   "metadata": {},
   "outputs": [],
   "source": [
    "final_rating=csr_matrix(final.values)"
   ]
  },
  {
   "cell_type": "code",
   "execution_count": 54,
   "metadata": {},
   "outputs": [
    {
     "name": "stdout",
     "output_type": "stream",
     "text": [
      "<Compressed Sparse Row sparse matrix of dtype 'float64'\n",
      "\twith 97860 stored elements and shape (2826, 42042)>\n",
      "  Coords\tValues\n",
      "  (0, 4490)\t5.0\n",
      "  (0, 5323)\t2.0\n",
      "  (0, 5996)\t5.0\n",
      "  (0, 7885)\t5.0\n",
      "  (0, 9259)\t5.0\n",
      "  (0, 9557)\t5.0\n",
      "  (0, 10032)\t3.0\n",
      "  (0, 12083)\t5.0\n",
      "  (0, 12101)\t4.0\n",
      "  (0, 12103)\t4.0\n",
      "  (0, 14089)\t5.0\n",
      "  (0, 15004)\t3.0\n",
      "  (0, 16275)\t3.0\n",
      "  (0, 17017)\t5.0\n",
      "  (0, 18356)\t5.0\n",
      "  (0, 20242)\t4.0\n",
      "  (0, 20246)\t5.0\n",
      "  (0, 20799)\t3.0\n",
      "  (0, 20803)\t5.0\n",
      "  (0, 20805)\t4.0\n",
      "  (0, 22498)\t4.0\n",
      "  (0, 23485)\t4.0\n",
      "  (0, 23894)\t4.0\n",
      "  (0, 24095)\t3.0\n",
      "  (0, 25015)\t5.0\n",
      "  :\t:\n",
      "  (2824, 29641)\t3.0\n",
      "  (2824, 30647)\t5.0\n",
      "  (2824, 30653)\t4.0\n",
      "  (2825, 1960)\t5.0\n",
      "  (2825, 7625)\t4.0\n",
      "  (2825, 12903)\t4.0\n",
      "  (2825, 15255)\t3.0\n",
      "  (2825, 15875)\t4.0\n",
      "  (2825, 16733)\t4.0\n",
      "  (2825, 17509)\t5.0\n",
      "  (2825, 18523)\t5.0\n",
      "  (2825, 18539)\t5.0\n",
      "  (2825, 21161)\t5.0\n",
      "  (2825, 22766)\t5.0\n",
      "  (2825, 24458)\t3.0\n",
      "  (2825, 29641)\t5.0\n",
      "  (2825, 30875)\t5.0\n",
      "  (2825, 34287)\t5.0\n",
      "  (2825, 35055)\t5.0\n",
      "  (2825, 36187)\t5.0\n",
      "  (2825, 37554)\t2.0\n",
      "  (2825, 37717)\t5.0\n",
      "  (2825, 37746)\t2.0\n",
      "  (2825, 39612)\t4.0\n",
      "  (2825, 40509)\t4.0\n"
     ]
    }
   ],
   "source": [
    "print(final_rating)"
   ]
  },
  {
   "cell_type": "markdown",
   "metadata": {},
   "source": [
    "SVD"
   ]
  },
  {
   "cell_type": "code",
   "execution_count": 55,
   "metadata": {},
   "outputs": [],
   "source": [
    "# Singular Value Decomposition\n",
    "U,s,Vt=svds(final_rating,k=50)\n",
    "sigma=np.diag(s)"
   ]
  },
  {
   "cell_type": "code",
   "execution_count": 56,
   "metadata": {},
   "outputs": [
    {
     "data": {
      "text/plain": [
       "((2826, 50), (50, 50))"
      ]
     },
     "execution_count": 56,
     "metadata": {},
     "output_type": "execute_result"
    }
   ],
   "source": [
    "U.shape,sigma.shape"
   ]
  },
  {
   "cell_type": "code",
   "execution_count": 57,
   "metadata": {},
   "outputs": [
    {
     "data": {
      "text/plain": [
       "(50, 42042)"
      ]
     },
     "execution_count": 57,
     "metadata": {},
     "output_type": "execute_result"
    }
   ],
   "source": [
    "Vt.shape"
   ]
  },
  {
   "cell_type": "markdown",
   "metadata": {},
   "source": [
    "Now, let's regenerate the original matrix using U, Sigma, and Vt matrices. The resulting matrix would be the predicted ratings for all users and products"
   ]
  },
  {
   "cell_type": "code",
   "execution_count": 58,
   "metadata": {},
   "outputs": [
    {
     "data": {
      "text/html": [
       "<div>\n",
       "<style scoped>\n",
       "    .dataframe tbody tr th:only-of-type {\n",
       "        vertical-align: middle;\n",
       "    }\n",
       "\n",
       "    .dataframe tbody tr th {\n",
       "        vertical-align: top;\n",
       "    }\n",
       "\n",
       "    .dataframe thead th {\n",
       "        text-align: right;\n",
       "    }\n",
       "</style>\n",
       "<table border=\"1\" class=\"dataframe\">\n",
       "  <thead>\n",
       "    <tr style=\"text-align: right;\">\n",
       "      <th>productid</th>\n",
       "      <th>0762451459</th>\n",
       "      <th>1304139212</th>\n",
       "      <th>130414643X</th>\n",
       "      <th>1304174867</th>\n",
       "      <th>1304174905</th>\n",
       "      <th>1304351475</th>\n",
       "      <th>1304482596</th>\n",
       "      <th>1304482685</th>\n",
       "      <th>1304495396</th>\n",
       "      <th>1304511111</th>\n",
       "      <th>...</th>\n",
       "      <th>B00L4I5PJS</th>\n",
       "      <th>B00L5BXG36</th>\n",
       "      <th>B00L5JHZJO</th>\n",
       "      <th>B00L5KTZ0K</th>\n",
       "      <th>B00L7BX4FE</th>\n",
       "      <th>B00LG63DOM</th>\n",
       "      <th>B00LH25A32</th>\n",
       "      <th>B00LH81A0I</th>\n",
       "      <th>B00LLPT4HI</th>\n",
       "      <th>B00LMOT7X4</th>\n",
       "    </tr>\n",
       "  </thead>\n",
       "  <tbody>\n",
       "    <tr>\n",
       "      <th>0</th>\n",
       "      <td>0.001506</td>\n",
       "      <td>0.000036</td>\n",
       "      <td>0.000036</td>\n",
       "      <td>0.000036</td>\n",
       "      <td>0.000036</td>\n",
       "      <td>0.002244</td>\n",
       "      <td>0.000181</td>\n",
       "      <td>0.000181</td>\n",
       "      <td>0.000181</td>\n",
       "      <td>0.000181</td>\n",
       "      <td>...</td>\n",
       "      <td>0.007384</td>\n",
       "      <td>0.010183</td>\n",
       "      <td>0.000283</td>\n",
       "      <td>0.008425</td>\n",
       "      <td>0.004743</td>\n",
       "      <td>0.006189</td>\n",
       "      <td>0.000167</td>\n",
       "      <td>0.021951</td>\n",
       "      <td>0.001982</td>\n",
       "      <td>0.009496</td>\n",
       "    </tr>\n",
       "    <tr>\n",
       "      <th>1</th>\n",
       "      <td>0.002468</td>\n",
       "      <td>0.000050</td>\n",
       "      <td>0.000050</td>\n",
       "      <td>0.000050</td>\n",
       "      <td>0.000050</td>\n",
       "      <td>0.002334</td>\n",
       "      <td>0.000071</td>\n",
       "      <td>0.000071</td>\n",
       "      <td>0.000071</td>\n",
       "      <td>0.000071</td>\n",
       "      <td>...</td>\n",
       "      <td>0.022543</td>\n",
       "      <td>0.013386</td>\n",
       "      <td>0.000294</td>\n",
       "      <td>0.005372</td>\n",
       "      <td>0.035360</td>\n",
       "      <td>0.003862</td>\n",
       "      <td>0.000146</td>\n",
       "      <td>0.018728</td>\n",
       "      <td>0.013619</td>\n",
       "      <td>0.005496</td>\n",
       "    </tr>\n",
       "    <tr>\n",
       "      <th>2</th>\n",
       "      <td>0.019451</td>\n",
       "      <td>0.001556</td>\n",
       "      <td>0.001556</td>\n",
       "      <td>0.001556</td>\n",
       "      <td>0.001556</td>\n",
       "      <td>0.003359</td>\n",
       "      <td>0.000666</td>\n",
       "      <td>0.000666</td>\n",
       "      <td>0.000666</td>\n",
       "      <td>0.000666</td>\n",
       "      <td>...</td>\n",
       "      <td>0.003192</td>\n",
       "      <td>0.024681</td>\n",
       "      <td>0.002107</td>\n",
       "      <td>0.022081</td>\n",
       "      <td>0.071984</td>\n",
       "      <td>0.011040</td>\n",
       "      <td>0.000298</td>\n",
       "      <td>0.031592</td>\n",
       "      <td>0.190875</td>\n",
       "      <td>0.010901</td>\n",
       "    </tr>\n",
       "    <tr>\n",
       "      <th>3</th>\n",
       "      <td>0.008391</td>\n",
       "      <td>0.000230</td>\n",
       "      <td>0.000230</td>\n",
       "      <td>0.000230</td>\n",
       "      <td>0.000230</td>\n",
       "      <td>0.000892</td>\n",
       "      <td>0.000176</td>\n",
       "      <td>0.000176</td>\n",
       "      <td>0.000176</td>\n",
       "      <td>0.000176</td>\n",
       "      <td>...</td>\n",
       "      <td>0.002134</td>\n",
       "      <td>0.029626</td>\n",
       "      <td>0.000570</td>\n",
       "      <td>0.000353</td>\n",
       "      <td>0.010746</td>\n",
       "      <td>0.000605</td>\n",
       "      <td>0.000324</td>\n",
       "      <td>0.002337</td>\n",
       "      <td>0.017515</td>\n",
       "      <td>0.010288</td>\n",
       "    </tr>\n",
       "    <tr>\n",
       "      <th>4</th>\n",
       "      <td>0.000201</td>\n",
       "      <td>0.000016</td>\n",
       "      <td>0.000016</td>\n",
       "      <td>0.000016</td>\n",
       "      <td>0.000016</td>\n",
       "      <td>0.000293</td>\n",
       "      <td>0.000013</td>\n",
       "      <td>0.000013</td>\n",
       "      <td>0.000013</td>\n",
       "      <td>0.000013</td>\n",
       "      <td>...</td>\n",
       "      <td>0.000075</td>\n",
       "      <td>0.000261</td>\n",
       "      <td>0.000034</td>\n",
       "      <td>0.000609</td>\n",
       "      <td>0.000446</td>\n",
       "      <td>0.000377</td>\n",
       "      <td>0.000097</td>\n",
       "      <td>0.000308</td>\n",
       "      <td>0.001908</td>\n",
       "      <td>0.000621</td>\n",
       "    </tr>\n",
       "  </tbody>\n",
       "</table>\n",
       "<p>5 rows × 42042 columns</p>\n",
       "</div>"
      ],
      "text/plain": [
       "productid  0762451459  1304139212  130414643X  1304174867  1304174905  \\\n",
       "0            0.001506    0.000036    0.000036    0.000036    0.000036   \n",
       "1            0.002468    0.000050    0.000050    0.000050    0.000050   \n",
       "2            0.019451    0.001556    0.001556    0.001556    0.001556   \n",
       "3            0.008391    0.000230    0.000230    0.000230    0.000230   \n",
       "4            0.000201    0.000016    0.000016    0.000016    0.000016   \n",
       "\n",
       "productid  1304351475  1304482596  1304482685  1304495396  1304511111  ...  \\\n",
       "0            0.002244    0.000181    0.000181    0.000181    0.000181  ...   \n",
       "1            0.002334    0.000071    0.000071    0.000071    0.000071  ...   \n",
       "2            0.003359    0.000666    0.000666    0.000666    0.000666  ...   \n",
       "3            0.000892    0.000176    0.000176    0.000176    0.000176  ...   \n",
       "4            0.000293    0.000013    0.000013    0.000013    0.000013  ...   \n",
       "\n",
       "productid  B00L4I5PJS  B00L5BXG36  B00L5JHZJO  B00L5KTZ0K  B00L7BX4FE  \\\n",
       "0            0.007384    0.010183    0.000283    0.008425    0.004743   \n",
       "1            0.022543    0.013386    0.000294    0.005372    0.035360   \n",
       "2            0.003192    0.024681    0.002107    0.022081    0.071984   \n",
       "3            0.002134    0.029626    0.000570    0.000353    0.010746   \n",
       "4            0.000075    0.000261    0.000034    0.000609    0.000446   \n",
       "\n",
       "productid  B00LG63DOM  B00LH25A32  B00LH81A0I  B00LLPT4HI  B00LMOT7X4  \n",
       "0            0.006189    0.000167    0.021951    0.001982    0.009496  \n",
       "1            0.003862    0.000146    0.018728    0.013619    0.005496  \n",
       "2            0.011040    0.000298    0.031592    0.190875    0.010901  \n",
       "3            0.000605    0.000324    0.002337    0.017515    0.010288  \n",
       "4            0.000377    0.000097    0.000308    0.001908    0.000621  \n",
       "\n",
       "[5 rows x 42042 columns]"
      ]
     },
     "execution_count": 58,
     "metadata": {},
     "output_type": "execute_result"
    }
   ],
   "source": [
    "# predicting rating\n",
    "all_user_rating=np.dot(np.dot(U,sigma),Vt)\n",
    "\n",
    "pred_df=pd.DataFrame(abs(all_user_rating),columns=final.columns)\n",
    "pred_df.head()\n"
   ]
  },
  {
   "cell_type": "code",
   "execution_count": 59,
   "metadata": {},
   "outputs": [],
   "source": [
    "def reduce_mem_usage(df, verbose=True):\n",
    "    numerics = ['int16', 'int32', 'int64', 'float16', 'float32', 'float64']\n",
    "    start_mem = df.memory_usage(deep=True).sum() / 1024**2    \n",
    "    for col in df.columns:\n",
    "        col_type = df[col].dtypes\n",
    "        if col_type in numerics:\n",
    "            c_min = df[col].min()\n",
    "            c_max = df[col].max()\n",
    "            if str(col_type)[:3] == 'int':  # for integers\n",
    "                if c_min > np.iinfo(np.int8).min and c_max < np.iinfo(np.int8).max:\n",
    "                    df[col] = df[col].astype(np.int8)\n",
    "                elif c_min > np.iinfo(np.int16).min and c_max < np.iinfo(np.int16).max:\n",
    "                    df[col] = df[col].astype(np.int16)\n",
    "                elif c_min > np.iinfo(np.int32).min and c_max < np.iinfo(np.int32).max:\n",
    "                    df[col] = df[col].astype(np.int32)\n",
    "                elif c_min > np.iinfo(np.int64).min and c_max < np.iinfo(np.int64).max:\n",
    "                    df[col] = df[col].astype(np.int64)  \n",
    "            else:  # for floats.\n",
    "                if c_min > np.finfo(np.float16).min and c_max < np.finfo(np.float16).max:\n",
    "                    df[col] = df[col].astype(np.float16)\n",
    "                elif c_min > np.finfo(np.float32).min and c_max < np.finfo(np.float32).max:\n",
    "                    df[col] = df[col].astype(np.float32)\n",
    "                else:\n",
    "                    df[col] = df[col].astype(np.float64)    \n",
    "    end_mem = df.memory_usage(deep=True).sum() / 1024**2\n",
    "    if verbose: print('Mem. usage decreased to {:5.2f} Mb ({:.1f}% reduction)'.format(end_mem, 100 * (start_mem - end_mem) / start_mem))\n",
    "    return df\n"
   ]
  },
  {
   "cell_type": "code",
   "execution_count": 60,
   "metadata": {},
   "outputs": [
    {
     "name": "stdout",
     "output_type": "stream",
     "text": [
      "Mem. usage decreased to 226.61 Mb (75.0% reduction)\n"
     ]
    }
   ],
   "source": [
    "df_o=reduce_mem_usage(pred_df)"
   ]
  },
  {
   "cell_type": "code",
   "execution_count": 61,
   "metadata": {},
   "outputs": [
    {
     "data": {
      "text/html": [
       "<div>\n",
       "<style scoped>\n",
       "    .dataframe tbody tr th:only-of-type {\n",
       "        vertical-align: middle;\n",
       "    }\n",
       "\n",
       "    .dataframe tbody tr th {\n",
       "        vertical-align: top;\n",
       "    }\n",
       "\n",
       "    .dataframe thead th {\n",
       "        text-align: right;\n",
       "    }\n",
       "</style>\n",
       "<table border=\"1\" class=\"dataframe\">\n",
       "  <thead>\n",
       "    <tr style=\"text-align: right;\">\n",
       "      <th>productid</th>\n",
       "      <th>0762451459</th>\n",
       "      <th>1304139212</th>\n",
       "      <th>130414643X</th>\n",
       "      <th>1304174867</th>\n",
       "      <th>1304174905</th>\n",
       "      <th>1304351475</th>\n",
       "      <th>1304482596</th>\n",
       "      <th>1304482685</th>\n",
       "      <th>1304495396</th>\n",
       "      <th>1304511111</th>\n",
       "      <th>...</th>\n",
       "      <th>B00L4I5PJS</th>\n",
       "      <th>B00L5BXG36</th>\n",
       "      <th>B00L5JHZJO</th>\n",
       "      <th>B00L5KTZ0K</th>\n",
       "      <th>B00L7BX4FE</th>\n",
       "      <th>B00LG63DOM</th>\n",
       "      <th>B00LH25A32</th>\n",
       "      <th>B00LH81A0I</th>\n",
       "      <th>B00LLPT4HI</th>\n",
       "      <th>B00LMOT7X4</th>\n",
       "    </tr>\n",
       "  </thead>\n",
       "  <tbody>\n",
       "    <tr>\n",
       "      <th>0</th>\n",
       "      <td>0.001506</td>\n",
       "      <td>0.000036</td>\n",
       "      <td>0.000036</td>\n",
       "      <td>0.000036</td>\n",
       "      <td>0.000036</td>\n",
       "      <td>0.002245</td>\n",
       "      <td>0.000181</td>\n",
       "      <td>0.000181</td>\n",
       "      <td>0.000181</td>\n",
       "      <td>0.000181</td>\n",
       "      <td>...</td>\n",
       "      <td>0.007385</td>\n",
       "      <td>0.010185</td>\n",
       "      <td>0.000283</td>\n",
       "      <td>0.008423</td>\n",
       "      <td>0.004742</td>\n",
       "      <td>0.006187</td>\n",
       "      <td>0.000167</td>\n",
       "      <td>0.021957</td>\n",
       "      <td>0.001982</td>\n",
       "      <td>0.009499</td>\n",
       "    </tr>\n",
       "    <tr>\n",
       "      <th>1</th>\n",
       "      <td>0.002468</td>\n",
       "      <td>0.000050</td>\n",
       "      <td>0.000050</td>\n",
       "      <td>0.000050</td>\n",
       "      <td>0.000050</td>\n",
       "      <td>0.002335</td>\n",
       "      <td>0.000071</td>\n",
       "      <td>0.000071</td>\n",
       "      <td>0.000071</td>\n",
       "      <td>0.000071</td>\n",
       "      <td>...</td>\n",
       "      <td>0.022537</td>\n",
       "      <td>0.013390</td>\n",
       "      <td>0.000294</td>\n",
       "      <td>0.005371</td>\n",
       "      <td>0.035370</td>\n",
       "      <td>0.003862</td>\n",
       "      <td>0.000146</td>\n",
       "      <td>0.018723</td>\n",
       "      <td>0.013618</td>\n",
       "      <td>0.005497</td>\n",
       "    </tr>\n",
       "    <tr>\n",
       "      <th>2</th>\n",
       "      <td>0.019455</td>\n",
       "      <td>0.001555</td>\n",
       "      <td>0.001555</td>\n",
       "      <td>0.001555</td>\n",
       "      <td>0.001555</td>\n",
       "      <td>0.003359</td>\n",
       "      <td>0.000666</td>\n",
       "      <td>0.000666</td>\n",
       "      <td>0.000666</td>\n",
       "      <td>0.000666</td>\n",
       "      <td>...</td>\n",
       "      <td>0.003191</td>\n",
       "      <td>0.024673</td>\n",
       "      <td>0.002108</td>\n",
       "      <td>0.022079</td>\n",
       "      <td>0.071960</td>\n",
       "      <td>0.011040</td>\n",
       "      <td>0.000298</td>\n",
       "      <td>0.031586</td>\n",
       "      <td>0.190918</td>\n",
       "      <td>0.010902</td>\n",
       "    </tr>\n",
       "    <tr>\n",
       "      <th>3</th>\n",
       "      <td>0.008392</td>\n",
       "      <td>0.000230</td>\n",
       "      <td>0.000230</td>\n",
       "      <td>0.000230</td>\n",
       "      <td>0.000230</td>\n",
       "      <td>0.000893</td>\n",
       "      <td>0.000176</td>\n",
       "      <td>0.000176</td>\n",
       "      <td>0.000176</td>\n",
       "      <td>0.000176</td>\n",
       "      <td>...</td>\n",
       "      <td>0.002134</td>\n",
       "      <td>0.029633</td>\n",
       "      <td>0.000570</td>\n",
       "      <td>0.000353</td>\n",
       "      <td>0.010750</td>\n",
       "      <td>0.000605</td>\n",
       "      <td>0.000324</td>\n",
       "      <td>0.002337</td>\n",
       "      <td>0.017517</td>\n",
       "      <td>0.010284</td>\n",
       "    </tr>\n",
       "    <tr>\n",
       "      <th>4</th>\n",
       "      <td>0.000201</td>\n",
       "      <td>0.000016</td>\n",
       "      <td>0.000016</td>\n",
       "      <td>0.000016</td>\n",
       "      <td>0.000016</td>\n",
       "      <td>0.000293</td>\n",
       "      <td>0.000013</td>\n",
       "      <td>0.000013</td>\n",
       "      <td>0.000013</td>\n",
       "      <td>0.000013</td>\n",
       "      <td>...</td>\n",
       "      <td>0.000075</td>\n",
       "      <td>0.000261</td>\n",
       "      <td>0.000034</td>\n",
       "      <td>0.000609</td>\n",
       "      <td>0.000446</td>\n",
       "      <td>0.000377</td>\n",
       "      <td>0.000097</td>\n",
       "      <td>0.000308</td>\n",
       "      <td>0.001907</td>\n",
       "      <td>0.000621</td>\n",
       "    </tr>\n",
       "  </tbody>\n",
       "</table>\n",
       "<p>5 rows × 42042 columns</p>\n",
       "</div>"
      ],
      "text/plain": [
       "productid  0762451459  1304139212  130414643X  1304174867  1304174905  \\\n",
       "0            0.001506    0.000036    0.000036    0.000036    0.000036   \n",
       "1            0.002468    0.000050    0.000050    0.000050    0.000050   \n",
       "2            0.019455    0.001555    0.001555    0.001555    0.001555   \n",
       "3            0.008392    0.000230    0.000230    0.000230    0.000230   \n",
       "4            0.000201    0.000016    0.000016    0.000016    0.000016   \n",
       "\n",
       "productid  1304351475  1304482596  1304482685  1304495396  1304511111  ...  \\\n",
       "0            0.002245    0.000181    0.000181    0.000181    0.000181  ...   \n",
       "1            0.002335    0.000071    0.000071    0.000071    0.000071  ...   \n",
       "2            0.003359    0.000666    0.000666    0.000666    0.000666  ...   \n",
       "3            0.000893    0.000176    0.000176    0.000176    0.000176  ...   \n",
       "4            0.000293    0.000013    0.000013    0.000013    0.000013  ...   \n",
       "\n",
       "productid  B00L4I5PJS  B00L5BXG36  B00L5JHZJO  B00L5KTZ0K  B00L7BX4FE  \\\n",
       "0            0.007385    0.010185    0.000283    0.008423    0.004742   \n",
       "1            0.022537    0.013390    0.000294    0.005371    0.035370   \n",
       "2            0.003191    0.024673    0.002108    0.022079    0.071960   \n",
       "3            0.002134    0.029633    0.000570    0.000353    0.010750   \n",
       "4            0.000075    0.000261    0.000034    0.000609    0.000446   \n",
       "\n",
       "productid  B00LG63DOM  B00LH25A32  B00LH81A0I  B00LLPT4HI  B00LMOT7X4  \n",
       "0            0.006187    0.000167    0.021957    0.001982    0.009499  \n",
       "1            0.003862    0.000146    0.018723    0.013618    0.005497  \n",
       "2            0.011040    0.000298    0.031586    0.190918    0.010902  \n",
       "3            0.000605    0.000324    0.002337    0.017517    0.010284  \n",
       "4            0.000377    0.000097    0.000308    0.001907    0.000621  \n",
       "\n",
       "[5 rows x 42042 columns]"
      ]
     },
     "execution_count": 61,
     "metadata": {},
     "output_type": "execute_result"
    }
   ],
   "source": [
    "df_o.head()"
   ]
  },
  {
   "cell_type": "code",
   "execution_count": 62,
   "metadata": {},
   "outputs": [],
   "source": [
    "from scipy.sparse import coo_matrix"
   ]
  },
  {
   "cell_type": "code",
   "execution_count": 63,
   "metadata": {},
   "outputs": [
    {
     "name": "stdout",
     "output_type": "stream",
     "text": [
      "<class 'pandas.core.frame.DataFrame'>\n",
      "RangeIndex: 2826 entries, 0 to 2825\n",
      "Columns: 42042 entries, 0762451459 to B00LMOT7X4\n",
      "dtypes: float16(42042)\n",
      "memory usage: 226.6 MB\n"
     ]
    }
   ],
   "source": [
    "df_o.info()"
   ]
  },
  {
   "cell_type": "code",
   "execution_count": 64,
   "metadata": {},
   "outputs": [],
   "source": [
    "df_o=df_o.apply(pd.to_numeric,errors='coerce')"
   ]
  },
  {
   "cell_type": "code",
   "execution_count": 65,
   "metadata": {},
   "outputs": [],
   "source": [
    "df_o=df_o.fillna(0)"
   ]
  },
  {
   "cell_type": "code",
   "execution_count": 66,
   "metadata": {},
   "outputs": [
    {
     "data": {
      "text/plain": [
       "productid\n",
       "0762451459    float16\n",
       "1304139212    float16\n",
       "130414643X    float16\n",
       "1304174867    float16\n",
       "1304174905    float16\n",
       "               ...   \n",
       "B00LG63DOM    float16\n",
       "B00LH25A32    float16\n",
       "B00LH81A0I    float16\n",
       "B00LLPT4HI    float16\n",
       "B00LMOT7X4    float16\n",
       "Length: 42042, dtype: object"
      ]
     },
     "execution_count": 66,
     "metadata": {},
     "output_type": "execute_result"
    }
   ],
   "source": [
    "df_o.dtypes"
   ]
  },
  {
   "cell_type": "code",
   "execution_count": 67,
   "metadata": {},
   "outputs": [],
   "source": [
    "df_o=df_o.astype('float64')"
   ]
  },
  {
   "cell_type": "code",
   "execution_count": 68,
   "metadata": {},
   "outputs": [],
   "source": [
    "pred_matrix=csr_matrix(df_o.values)"
   ]
  },
  {
   "cell_type": "code",
   "execution_count": 69,
   "metadata": {},
   "outputs": [
    {
     "name": "stdout",
     "output_type": "stream",
     "text": [
      "(2826, 42042)\n"
     ]
    }
   ],
   "source": [
    "print(pred_matrix.shape)"
   ]
  },
  {
   "cell_type": "code",
   "execution_count": 70,
   "metadata": {},
   "outputs": [],
   "source": [
    "#Function to recommend products"
   ]
  },
  {
   "cell_type": "code",
   "execution_count": 71,
   "metadata": {},
   "outputs": [],
   "source": [
    "def recommend_items(user_index, interactions_matrix, preds_matrix, num_recommendations):\n",
    "    \n",
    "    # Get the user's ratings from the actual and predicted interaction matrices\n",
    "    user_ratings = interactions_matrix[user_index,:].toarray().reshape(-1)\n",
    "    user_predictions = preds_matrix[user_index,:].toarray().reshape(-1)\n",
    "\n",
    "    #Creating a dataframe with actual and predicted ratings columns\n",
    "    temp = pd.DataFrame({'user_ratings': user_ratings, 'user_predictions': user_predictions})\n",
    "    temp['Recommended Products'] = np.arange(len(user_ratings))\n",
    "    temp = temp.set_index('Recommended Products')\n",
    "    \n",
    "    #Filtering the dataframe where actual ratings are 0 which implies that the user has not interacted with that product\n",
    "    temp = temp.loc[temp.user_ratings == 0]   \n",
    "    \n",
    "    #Recommending products with top predicted ratings\n",
    "    temp = temp.sort_values('user_predictions',ascending=False)#Sort the dataframe by user_predictions in descending order\n",
    "    print('\\nBelow are the recommended products for user(user_id = {}):\\n'.format(user_index))\n",
    "    print(temp['user_predictions'].head(num_recommendations))\n",
    "\n",
    "    \n",
    "    \n",
    "    "
   ]
  },
  {
   "cell_type": "code",
   "execution_count": 72,
   "metadata": {},
   "outputs": [
    {
     "name": "stdout",
     "output_type": "stream",
     "text": [
      "\n",
      "Below are the recommended products for user(user_id = 121):\n",
      "\n",
      "Recommended Products\n",
      "24451    0.882324\n",
      "24457    0.806152\n",
      "13923    0.757812\n",
      "6044     0.737305\n",
      "24458    0.674805\n",
      "Name: user_predictions, dtype: float64\n"
     ]
    }
   ],
   "source": [
    "#Enter 'user index' and 'num_recommendations' for the user\n",
    "recommend_items(121,final_rating,pred_matrix,5)"
   ]
  },
  {
   "cell_type": "markdown",
   "metadata": {},
   "source": [
    "# Recommending top 10 products to user id 100"
   ]
  },
  {
   "cell_type": "code",
   "execution_count": 73,
   "metadata": {},
   "outputs": [
    {
     "name": "stdout",
     "output_type": "stream",
     "text": [
      "\n",
      "Below are the recommended products for user(user_id = 100):\n",
      "\n",
      "Recommended Products\n",
      "20349    0.004814\n",
      "28227    0.004650\n",
      "21500    0.004143\n",
      "20337    0.003441\n",
      "13923    0.003111\n",
      "20354    0.003063\n",
      "25776    0.002892\n",
      "23173    0.002619\n",
      "34499    0.002527\n",
      "17413    0.002502\n",
      "Name: user_predictions, dtype: float64\n"
     ]
    }
   ],
   "source": [
    "recommend_items(100,final_rating,pred_matrix,10)"
   ]
  },
  {
   "cell_type": "code",
   "execution_count": 74,
   "metadata": {},
   "outputs": [],
   "source": [
    "# Evaluating the model\n",
    "final['user_index']=np.arange(0,final.shape[0])"
   ]
  },
  {
   "cell_type": "code",
   "execution_count": 75,
   "metadata": {},
   "outputs": [],
   "source": [
    "final.set_index(final['user_index'],inplace=True)"
   ]
  },
  {
   "cell_type": "code",
   "execution_count": 76,
   "metadata": {},
   "outputs": [
    {
     "data": {
      "text/html": [
       "<div>\n",
       "<style scoped>\n",
       "    .dataframe tbody tr th:only-of-type {\n",
       "        vertical-align: middle;\n",
       "    }\n",
       "\n",
       "    .dataframe tbody tr th {\n",
       "        vertical-align: top;\n",
       "    }\n",
       "\n",
       "    .dataframe thead th {\n",
       "        text-align: right;\n",
       "    }\n",
       "</style>\n",
       "<table border=\"1\" class=\"dataframe\">\n",
       "  <thead>\n",
       "    <tr style=\"text-align: right;\">\n",
       "      <th>productid</th>\n",
       "      <th>0762451459</th>\n",
       "      <th>1304139212</th>\n",
       "      <th>130414643X</th>\n",
       "      <th>1304174867</th>\n",
       "      <th>1304174905</th>\n",
       "      <th>1304351475</th>\n",
       "      <th>1304482596</th>\n",
       "      <th>1304482685</th>\n",
       "      <th>1304495396</th>\n",
       "      <th>1304511111</th>\n",
       "      <th>...</th>\n",
       "      <th>B00L5BXG36</th>\n",
       "      <th>B00L5JHZJO</th>\n",
       "      <th>B00L5KTZ0K</th>\n",
       "      <th>B00L7BX4FE</th>\n",
       "      <th>B00LG63DOM</th>\n",
       "      <th>B00LH25A32</th>\n",
       "      <th>B00LH81A0I</th>\n",
       "      <th>B00LLPT4HI</th>\n",
       "      <th>B00LMOT7X4</th>\n",
       "      <th>user_index</th>\n",
       "    </tr>\n",
       "    <tr>\n",
       "      <th>user_index</th>\n",
       "      <th></th>\n",
       "      <th></th>\n",
       "      <th></th>\n",
       "      <th></th>\n",
       "      <th></th>\n",
       "      <th></th>\n",
       "      <th></th>\n",
       "      <th></th>\n",
       "      <th></th>\n",
       "      <th></th>\n",
       "      <th></th>\n",
       "      <th></th>\n",
       "      <th></th>\n",
       "      <th></th>\n",
       "      <th></th>\n",
       "      <th></th>\n",
       "      <th></th>\n",
       "      <th></th>\n",
       "      <th></th>\n",
       "      <th></th>\n",
       "      <th></th>\n",
       "    </tr>\n",
       "  </thead>\n",
       "  <tbody>\n",
       "    <tr>\n",
       "      <th>0</th>\n",
       "      <td>0.0</td>\n",
       "      <td>0.0</td>\n",
       "      <td>0.0</td>\n",
       "      <td>0.0</td>\n",
       "      <td>0.0</td>\n",
       "      <td>0.0</td>\n",
       "      <td>0.0</td>\n",
       "      <td>0.0</td>\n",
       "      <td>0.0</td>\n",
       "      <td>0.0</td>\n",
       "      <td>...</td>\n",
       "      <td>0.0</td>\n",
       "      <td>0.0</td>\n",
       "      <td>0.0</td>\n",
       "      <td>0.0</td>\n",
       "      <td>0.0</td>\n",
       "      <td>0.0</td>\n",
       "      <td>0.0</td>\n",
       "      <td>0.0</td>\n",
       "      <td>0.0</td>\n",
       "      <td>0</td>\n",
       "    </tr>\n",
       "    <tr>\n",
       "      <th>1</th>\n",
       "      <td>0.0</td>\n",
       "      <td>0.0</td>\n",
       "      <td>0.0</td>\n",
       "      <td>0.0</td>\n",
       "      <td>0.0</td>\n",
       "      <td>0.0</td>\n",
       "      <td>0.0</td>\n",
       "      <td>0.0</td>\n",
       "      <td>0.0</td>\n",
       "      <td>0.0</td>\n",
       "      <td>...</td>\n",
       "      <td>0.0</td>\n",
       "      <td>0.0</td>\n",
       "      <td>0.0</td>\n",
       "      <td>0.0</td>\n",
       "      <td>0.0</td>\n",
       "      <td>0.0</td>\n",
       "      <td>0.0</td>\n",
       "      <td>0.0</td>\n",
       "      <td>0.0</td>\n",
       "      <td>1</td>\n",
       "    </tr>\n",
       "    <tr>\n",
       "      <th>2</th>\n",
       "      <td>0.0</td>\n",
       "      <td>0.0</td>\n",
       "      <td>0.0</td>\n",
       "      <td>0.0</td>\n",
       "      <td>0.0</td>\n",
       "      <td>0.0</td>\n",
       "      <td>0.0</td>\n",
       "      <td>0.0</td>\n",
       "      <td>0.0</td>\n",
       "      <td>0.0</td>\n",
       "      <td>...</td>\n",
       "      <td>0.0</td>\n",
       "      <td>0.0</td>\n",
       "      <td>0.0</td>\n",
       "      <td>0.0</td>\n",
       "      <td>0.0</td>\n",
       "      <td>0.0</td>\n",
       "      <td>0.0</td>\n",
       "      <td>0.0</td>\n",
       "      <td>0.0</td>\n",
       "      <td>2</td>\n",
       "    </tr>\n",
       "    <tr>\n",
       "      <th>3</th>\n",
       "      <td>0.0</td>\n",
       "      <td>0.0</td>\n",
       "      <td>0.0</td>\n",
       "      <td>0.0</td>\n",
       "      <td>0.0</td>\n",
       "      <td>0.0</td>\n",
       "      <td>0.0</td>\n",
       "      <td>0.0</td>\n",
       "      <td>0.0</td>\n",
       "      <td>0.0</td>\n",
       "      <td>...</td>\n",
       "      <td>0.0</td>\n",
       "      <td>0.0</td>\n",
       "      <td>0.0</td>\n",
       "      <td>0.0</td>\n",
       "      <td>0.0</td>\n",
       "      <td>0.0</td>\n",
       "      <td>0.0</td>\n",
       "      <td>0.0</td>\n",
       "      <td>0.0</td>\n",
       "      <td>3</td>\n",
       "    </tr>\n",
       "    <tr>\n",
       "      <th>4</th>\n",
       "      <td>0.0</td>\n",
       "      <td>0.0</td>\n",
       "      <td>0.0</td>\n",
       "      <td>0.0</td>\n",
       "      <td>0.0</td>\n",
       "      <td>0.0</td>\n",
       "      <td>0.0</td>\n",
       "      <td>0.0</td>\n",
       "      <td>0.0</td>\n",
       "      <td>0.0</td>\n",
       "      <td>...</td>\n",
       "      <td>0.0</td>\n",
       "      <td>0.0</td>\n",
       "      <td>0.0</td>\n",
       "      <td>0.0</td>\n",
       "      <td>0.0</td>\n",
       "      <td>0.0</td>\n",
       "      <td>0.0</td>\n",
       "      <td>0.0</td>\n",
       "      <td>0.0</td>\n",
       "      <td>4</td>\n",
       "    </tr>\n",
       "  </tbody>\n",
       "</table>\n",
       "<p>5 rows × 42043 columns</p>\n",
       "</div>"
      ],
      "text/plain": [
       "productid   0762451459  1304139212  130414643X  1304174867  1304174905  \\\n",
       "user_index                                                               \n",
       "0                  0.0         0.0         0.0         0.0         0.0   \n",
       "1                  0.0         0.0         0.0         0.0         0.0   \n",
       "2                  0.0         0.0         0.0         0.0         0.0   \n",
       "3                  0.0         0.0         0.0         0.0         0.0   \n",
       "4                  0.0         0.0         0.0         0.0         0.0   \n",
       "\n",
       "productid   1304351475  1304482596  1304482685  1304495396  1304511111  ...  \\\n",
       "user_index                                                              ...   \n",
       "0                  0.0         0.0         0.0         0.0         0.0  ...   \n",
       "1                  0.0         0.0         0.0         0.0         0.0  ...   \n",
       "2                  0.0         0.0         0.0         0.0         0.0  ...   \n",
       "3                  0.0         0.0         0.0         0.0         0.0  ...   \n",
       "4                  0.0         0.0         0.0         0.0         0.0  ...   \n",
       "\n",
       "productid   B00L5BXG36  B00L5JHZJO  B00L5KTZ0K  B00L7BX4FE  B00LG63DOM  \\\n",
       "user_index                                                               \n",
       "0                  0.0         0.0         0.0         0.0         0.0   \n",
       "1                  0.0         0.0         0.0         0.0         0.0   \n",
       "2                  0.0         0.0         0.0         0.0         0.0   \n",
       "3                  0.0         0.0         0.0         0.0         0.0   \n",
       "4                  0.0         0.0         0.0         0.0         0.0   \n",
       "\n",
       "productid   B00LH25A32  B00LH81A0I  B00LLPT4HI  B00LMOT7X4  user_index  \n",
       "user_index                                                              \n",
       "0                  0.0         0.0         0.0         0.0           0  \n",
       "1                  0.0         0.0         0.0         0.0           1  \n",
       "2                  0.0         0.0         0.0         0.0           2  \n",
       "3                  0.0         0.0         0.0         0.0           3  \n",
       "4                  0.0         0.0         0.0         0.0           4  \n",
       "\n",
       "[5 rows x 42043 columns]"
      ]
     },
     "execution_count": 76,
     "metadata": {},
     "output_type": "execute_result"
    }
   ],
   "source": [
    "final.head()"
   ]
  },
  {
   "cell_type": "code",
   "execution_count": 77,
   "metadata": {},
   "outputs": [
    {
     "data": {
      "text/plain": [
       "productid\n",
       "0762451459    0.001769\n",
       "1304139212    0.001769\n",
       "130414643X    0.001769\n",
       "1304174867    0.001769\n",
       "1304174905    0.001769\n",
       "dtype: float64"
      ]
     },
     "execution_count": 77,
     "metadata": {},
     "output_type": "execute_result"
    }
   ],
   "source": [
    "average_rating=final.mean()\n",
    "average_rating.head()"
   ]
  },
  {
   "cell_type": "code",
   "execution_count": 78,
   "metadata": {},
   "outputs": [
    {
     "data": {
      "text/html": [
       "<div>\n",
       "<style scoped>\n",
       "    .dataframe tbody tr th:only-of-type {\n",
       "        vertical-align: middle;\n",
       "    }\n",
       "\n",
       "    .dataframe tbody tr th {\n",
       "        vertical-align: top;\n",
       "    }\n",
       "\n",
       "    .dataframe thead th {\n",
       "        text-align: right;\n",
       "    }\n",
       "</style>\n",
       "<table border=\"1\" class=\"dataframe\">\n",
       "  <thead>\n",
       "    <tr style=\"text-align: right;\">\n",
       "      <th>productid</th>\n",
       "      <th>0762451459</th>\n",
       "      <th>1304139212</th>\n",
       "      <th>130414643X</th>\n",
       "      <th>1304174867</th>\n",
       "      <th>1304174905</th>\n",
       "      <th>1304351475</th>\n",
       "      <th>1304482596</th>\n",
       "      <th>1304482685</th>\n",
       "      <th>1304495396</th>\n",
       "      <th>1304511111</th>\n",
       "      <th>...</th>\n",
       "      <th>B00L4I5PJS</th>\n",
       "      <th>B00L5BXG36</th>\n",
       "      <th>B00L5JHZJO</th>\n",
       "      <th>B00L5KTZ0K</th>\n",
       "      <th>B00L7BX4FE</th>\n",
       "      <th>B00LG63DOM</th>\n",
       "      <th>B00LH25A32</th>\n",
       "      <th>B00LH81A0I</th>\n",
       "      <th>B00LLPT4HI</th>\n",
       "      <th>B00LMOT7X4</th>\n",
       "    </tr>\n",
       "  </thead>\n",
       "  <tbody>\n",
       "    <tr>\n",
       "      <th>0</th>\n",
       "      <td>0.001506</td>\n",
       "      <td>0.000036</td>\n",
       "      <td>0.000036</td>\n",
       "      <td>0.000036</td>\n",
       "      <td>0.000036</td>\n",
       "      <td>0.002245</td>\n",
       "      <td>0.000181</td>\n",
       "      <td>0.000181</td>\n",
       "      <td>0.000181</td>\n",
       "      <td>0.000181</td>\n",
       "      <td>...</td>\n",
       "      <td>0.007385</td>\n",
       "      <td>0.010185</td>\n",
       "      <td>0.000283</td>\n",
       "      <td>0.008423</td>\n",
       "      <td>0.004742</td>\n",
       "      <td>0.006187</td>\n",
       "      <td>0.000167</td>\n",
       "      <td>0.021957</td>\n",
       "      <td>0.001982</td>\n",
       "      <td>0.009499</td>\n",
       "    </tr>\n",
       "    <tr>\n",
       "      <th>1</th>\n",
       "      <td>0.002468</td>\n",
       "      <td>0.000050</td>\n",
       "      <td>0.000050</td>\n",
       "      <td>0.000050</td>\n",
       "      <td>0.000050</td>\n",
       "      <td>0.002335</td>\n",
       "      <td>0.000071</td>\n",
       "      <td>0.000071</td>\n",
       "      <td>0.000071</td>\n",
       "      <td>0.000071</td>\n",
       "      <td>...</td>\n",
       "      <td>0.022537</td>\n",
       "      <td>0.013390</td>\n",
       "      <td>0.000294</td>\n",
       "      <td>0.005371</td>\n",
       "      <td>0.035370</td>\n",
       "      <td>0.003862</td>\n",
       "      <td>0.000146</td>\n",
       "      <td>0.018723</td>\n",
       "      <td>0.013618</td>\n",
       "      <td>0.005497</td>\n",
       "    </tr>\n",
       "    <tr>\n",
       "      <th>2</th>\n",
       "      <td>0.019455</td>\n",
       "      <td>0.001555</td>\n",
       "      <td>0.001555</td>\n",
       "      <td>0.001555</td>\n",
       "      <td>0.001555</td>\n",
       "      <td>0.003359</td>\n",
       "      <td>0.000666</td>\n",
       "      <td>0.000666</td>\n",
       "      <td>0.000666</td>\n",
       "      <td>0.000666</td>\n",
       "      <td>...</td>\n",
       "      <td>0.003191</td>\n",
       "      <td>0.024673</td>\n",
       "      <td>0.002108</td>\n",
       "      <td>0.022079</td>\n",
       "      <td>0.071960</td>\n",
       "      <td>0.011040</td>\n",
       "      <td>0.000298</td>\n",
       "      <td>0.031586</td>\n",
       "      <td>0.190918</td>\n",
       "      <td>0.010902</td>\n",
       "    </tr>\n",
       "    <tr>\n",
       "      <th>3</th>\n",
       "      <td>0.008392</td>\n",
       "      <td>0.000230</td>\n",
       "      <td>0.000230</td>\n",
       "      <td>0.000230</td>\n",
       "      <td>0.000230</td>\n",
       "      <td>0.000893</td>\n",
       "      <td>0.000176</td>\n",
       "      <td>0.000176</td>\n",
       "      <td>0.000176</td>\n",
       "      <td>0.000176</td>\n",
       "      <td>...</td>\n",
       "      <td>0.002134</td>\n",
       "      <td>0.029633</td>\n",
       "      <td>0.000570</td>\n",
       "      <td>0.000353</td>\n",
       "      <td>0.010750</td>\n",
       "      <td>0.000605</td>\n",
       "      <td>0.000324</td>\n",
       "      <td>0.002337</td>\n",
       "      <td>0.017517</td>\n",
       "      <td>0.010284</td>\n",
       "    </tr>\n",
       "    <tr>\n",
       "      <th>4</th>\n",
       "      <td>0.000201</td>\n",
       "      <td>0.000016</td>\n",
       "      <td>0.000016</td>\n",
       "      <td>0.000016</td>\n",
       "      <td>0.000016</td>\n",
       "      <td>0.000293</td>\n",
       "      <td>0.000013</td>\n",
       "      <td>0.000013</td>\n",
       "      <td>0.000013</td>\n",
       "      <td>0.000013</td>\n",
       "      <td>...</td>\n",
       "      <td>0.000075</td>\n",
       "      <td>0.000261</td>\n",
       "      <td>0.000034</td>\n",
       "      <td>0.000609</td>\n",
       "      <td>0.000446</td>\n",
       "      <td>0.000377</td>\n",
       "      <td>0.000097</td>\n",
       "      <td>0.000308</td>\n",
       "      <td>0.001907</td>\n",
       "      <td>0.000621</td>\n",
       "    </tr>\n",
       "  </tbody>\n",
       "</table>\n",
       "<p>5 rows × 42042 columns</p>\n",
       "</div>"
      ],
      "text/plain": [
       "productid  0762451459  1304139212  130414643X  1304174867  1304174905  \\\n",
       "0            0.001506    0.000036    0.000036    0.000036    0.000036   \n",
       "1            0.002468    0.000050    0.000050    0.000050    0.000050   \n",
       "2            0.019455    0.001555    0.001555    0.001555    0.001555   \n",
       "3            0.008392    0.000230    0.000230    0.000230    0.000230   \n",
       "4            0.000201    0.000016    0.000016    0.000016    0.000016   \n",
       "\n",
       "productid  1304351475  1304482596  1304482685  1304495396  1304511111  ...  \\\n",
       "0            0.002245    0.000181    0.000181    0.000181    0.000181  ...   \n",
       "1            0.002335    0.000071    0.000071    0.000071    0.000071  ...   \n",
       "2            0.003359    0.000666    0.000666    0.000666    0.000666  ...   \n",
       "3            0.000893    0.000176    0.000176    0.000176    0.000176  ...   \n",
       "4            0.000293    0.000013    0.000013    0.000013    0.000013  ...   \n",
       "\n",
       "productid  B00L4I5PJS  B00L5BXG36  B00L5JHZJO  B00L5KTZ0K  B00L7BX4FE  \\\n",
       "0            0.007385    0.010185    0.000283    0.008423    0.004742   \n",
       "1            0.022537    0.013390    0.000294    0.005371    0.035370   \n",
       "2            0.003191    0.024673    0.002108    0.022079    0.071960   \n",
       "3            0.002134    0.029633    0.000570    0.000353    0.010750   \n",
       "4            0.000075    0.000261    0.000034    0.000609    0.000446   \n",
       "\n",
       "productid  B00LG63DOM  B00LH25A32  B00LH81A0I  B00LLPT4HI  B00LMOT7X4  \n",
       "0            0.006187    0.000167    0.021957    0.001982    0.009499  \n",
       "1            0.003862    0.000146    0.018723    0.013618    0.005497  \n",
       "2            0.011040    0.000298    0.031586    0.190918    0.010902  \n",
       "3            0.000605    0.000324    0.002337    0.017517    0.010284  \n",
       "4            0.000377    0.000097    0.000308    0.001907    0.000621  \n",
       "\n",
       "[5 rows x 42042 columns]"
      ]
     },
     "execution_count": 78,
     "metadata": {},
     "output_type": "execute_result"
    }
   ],
   "source": [
    "pred_df.head()"
   ]
  },
  {
   "cell_type": "code",
   "execution_count": 79,
   "metadata": {},
   "outputs": [
    {
     "data": {
      "text/plain": [
       "productid\n",
       "0762451459    0.010902\n",
       "1304139212    0.000189\n",
       "130414643X    0.000189\n",
       "1304174867    0.000189\n",
       "1304174905    0.000189\n",
       "dtype: float16"
      ]
     },
     "execution_count": 79,
     "metadata": {},
     "output_type": "execute_result"
    }
   ],
   "source": [
    "avg_pred=pred_df.mean()\n",
    "avg_pred.head()"
   ]
  },
  {
   "cell_type": "code",
   "execution_count": 80,
   "metadata": {},
   "outputs": [
    {
     "data": {
      "text/html": [
       "<div>\n",
       "<style scoped>\n",
       "    .dataframe tbody tr th:only-of-type {\n",
       "        vertical-align: middle;\n",
       "    }\n",
       "\n",
       "    .dataframe tbody tr th {\n",
       "        vertical-align: top;\n",
       "    }\n",
       "\n",
       "    .dataframe thead th {\n",
       "        text-align: right;\n",
       "    }\n",
       "</style>\n",
       "<table border=\"1\" class=\"dataframe\">\n",
       "  <thead>\n",
       "    <tr style=\"text-align: right;\">\n",
       "      <th></th>\n",
       "      <th>Avt_acutal_rating</th>\n",
       "      <th>Avg_predicted_rating</th>\n",
       "    </tr>\n",
       "    <tr>\n",
       "      <th>productid</th>\n",
       "      <th></th>\n",
       "      <th></th>\n",
       "    </tr>\n",
       "  </thead>\n",
       "  <tbody>\n",
       "    <tr>\n",
       "      <th>0762451459</th>\n",
       "      <td>0.001769</td>\n",
       "      <td>0.010902</td>\n",
       "    </tr>\n",
       "    <tr>\n",
       "      <th>1304139212</th>\n",
       "      <td>0.001769</td>\n",
       "      <td>0.000189</td>\n",
       "    </tr>\n",
       "    <tr>\n",
       "      <th>130414643X</th>\n",
       "      <td>0.001769</td>\n",
       "      <td>0.000189</td>\n",
       "    </tr>\n",
       "    <tr>\n",
       "      <th>1304174867</th>\n",
       "      <td>0.001769</td>\n",
       "      <td>0.000189</td>\n",
       "    </tr>\n",
       "    <tr>\n",
       "      <th>1304174905</th>\n",
       "      <td>0.001769</td>\n",
       "      <td>0.000189</td>\n",
       "    </tr>\n",
       "  </tbody>\n",
       "</table>\n",
       "</div>"
      ],
      "text/plain": [
       "            Avt_acutal_rating  Avg_predicted_rating\n",
       "productid                                          \n",
       "0762451459           0.001769              0.010902\n",
       "1304139212           0.001769              0.000189\n",
       "130414643X           0.001769              0.000189\n",
       "1304174867           0.001769              0.000189\n",
       "1304174905           0.001769              0.000189"
      ]
     },
     "execution_count": 80,
     "metadata": {},
     "output_type": "execute_result"
    }
   ],
   "source": [
    "rams_df=pd.concat([average_rating,avg_pred],axis=1)\n",
    "rams_df.columns=['Avt_acutal_rating', 'Avg_predicted_rating']\n",
    "rams_df.head()"
   ]
  },
  {
   "cell_type": "code",
   "execution_count": 81,
   "metadata": {},
   "outputs": [],
   "source": [
    "rams_df.isnull().sum()\n",
    "rams_df=rams_df.dropna()"
   ]
  },
  {
   "cell_type": "code",
   "execution_count": 82,
   "metadata": {},
   "outputs": [
    {
     "data": {
      "text/plain": [
       "Avt_acutal_rating       0\n",
       "Avg_predicted_rating    0\n",
       "dtype: int64"
      ]
     },
     "execution_count": 82,
     "metadata": {},
     "output_type": "execute_result"
    }
   ],
   "source": [
    "rams_df.isnull().sum()"
   ]
  },
  {
   "cell_type": "code",
   "execution_count": 83,
   "metadata": {},
   "outputs": [
    {
     "name": "stdout",
     "output_type": "stream",
     "text": [
      "Rmse SVD model=0.006598001776980851\n",
      "\n"
     ]
    }
   ],
   "source": [
    "RMSE=mean_squared_error(rams_df['Avt_acutal_rating'],rams_df['Avg_predicted_rating'],squared=False)\n",
    "print(f'Rmse SVD model={RMSE}\\n')"
   ]
  },
  {
   "cell_type": "code",
   "execution_count": 84,
   "metadata": {},
   "outputs": [],
   "source": [
    "from sklearn.feature_extraction.text import TfidfVectorizer, CountVectorizer\n",
    "from sklearn.neighbors import NearestNeighbors\n",
    "from sklearn.cluster import KMeans\n",
    "from sklearn.metrics import adjusted_rand_score\n"
   ]
  },
  {
   "cell_type": "code",
   "execution_count": 85,
   "metadata": {},
   "outputs": [],
   "source": [
    "pd=pd.read_csv(\"E:\\\\model\\\\product_descriptions.csv\")"
   ]
  },
  {
   "cell_type": "code",
   "execution_count": 86,
   "metadata": {},
   "outputs": [
    {
     "data": {
      "text/html": [
       "<div>\n",
       "<style scoped>\n",
       "    .dataframe tbody tr th:only-of-type {\n",
       "        vertical-align: middle;\n",
       "    }\n",
       "\n",
       "    .dataframe tbody tr th {\n",
       "        vertical-align: top;\n",
       "    }\n",
       "\n",
       "    .dataframe thead th {\n",
       "        text-align: right;\n",
       "    }\n",
       "</style>\n",
       "<table border=\"1\" class=\"dataframe\">\n",
       "  <thead>\n",
       "    <tr style=\"text-align: right;\">\n",
       "      <th></th>\n",
       "      <th>product_uid</th>\n",
       "      <th>product_description</th>\n",
       "    </tr>\n",
       "  </thead>\n",
       "  <tbody>\n",
       "    <tr>\n",
       "      <th>0</th>\n",
       "      <td>100001</td>\n",
       "      <td>Not only do angles make joints stronger, they ...</td>\n",
       "    </tr>\n",
       "    <tr>\n",
       "      <th>1</th>\n",
       "      <td>100002</td>\n",
       "      <td>BEHR Premium Textured DECKOVER is an innovativ...</td>\n",
       "    </tr>\n",
       "    <tr>\n",
       "      <th>2</th>\n",
       "      <td>100003</td>\n",
       "      <td>Classic architecture meets contemporary design...</td>\n",
       "    </tr>\n",
       "    <tr>\n",
       "      <th>3</th>\n",
       "      <td>100004</td>\n",
       "      <td>The Grape Solar 265-Watt Polycrystalline PV So...</td>\n",
       "    </tr>\n",
       "    <tr>\n",
       "      <th>4</th>\n",
       "      <td>100005</td>\n",
       "      <td>Update your bathroom with the Delta Vero Singl...</td>\n",
       "    </tr>\n",
       "  </tbody>\n",
       "</table>\n",
       "</div>"
      ],
      "text/plain": [
       "   product_uid                                product_description\n",
       "0       100001  Not only do angles make joints stronger, they ...\n",
       "1       100002  BEHR Premium Textured DECKOVER is an innovativ...\n",
       "2       100003  Classic architecture meets contemporary design...\n",
       "3       100004  The Grape Solar 265-Watt Polycrystalline PV So...\n",
       "4       100005  Update your bathroom with the Delta Vero Singl..."
      ]
     },
     "execution_count": 86,
     "metadata": {},
     "output_type": "execute_result"
    }
   ],
   "source": [
    "pd.head()"
   ]
  },
  {
   "cell_type": "code",
   "execution_count": 87,
   "metadata": {},
   "outputs": [
    {
     "data": {
      "text/plain": [
       "product_uid            0\n",
       "product_description    0\n",
       "dtype: int64"
      ]
     },
     "execution_count": 87,
     "metadata": {},
     "output_type": "execute_result"
    }
   ],
   "source": [
    "pd.isnull().sum()"
   ]
  },
  {
   "cell_type": "code",
   "execution_count": 88,
   "metadata": {},
   "outputs": [
    {
     "data": {
      "text/plain": [
       "0"
      ]
     },
     "execution_count": 88,
     "metadata": {},
     "output_type": "execute_result"
    }
   ],
   "source": [
    "pd.duplicated().sum()"
   ]
  },
  {
   "cell_type": "code",
   "execution_count": 89,
   "metadata": {},
   "outputs": [
    {
     "data": {
      "text/plain": [
       "(124428, 2)"
      ]
     },
     "execution_count": 89,
     "metadata": {},
     "output_type": "execute_result"
    }
   ],
   "source": [
    "pd.shape"
   ]
  },
  {
   "cell_type": "markdown",
   "metadata": {},
   "source": [
    "# feature covertions in numberical data and analysis"
   ]
  },
  {
   "cell_type": "code",
   "execution_count": 90,
   "metadata": {},
   "outputs": [],
   "source": [
    "vect=TfidfVectorizer(stop_words='english')"
   ]
  },
  {
   "cell_type": "code",
   "execution_count": 91,
   "metadata": {},
   "outputs": [],
   "source": [
    "x=vect.fit_transform(pd['product_description'])"
   ]
  },
  {
   "cell_type": "code",
   "execution_count": 92,
   "metadata": {},
   "outputs": [
    {
     "data": {
      "text/plain": [
       "<Compressed Sparse Row sparse matrix of dtype 'float64'\n",
       "\twith 8256891 stored elements and shape (124428, 268559)>"
      ]
     },
     "execution_count": 92,
     "metadata": {},
     "output_type": "execute_result"
    }
   ],
   "source": [
    "x"
   ]
  },
  {
   "cell_type": "code",
   "execution_count": 95,
   "metadata": {},
   "outputs": [
    {
     "data": {
      "image/png": "[encoded data removed]",
      "text/plain": [
       "<Figure size 640x480 with 1 Axes>"
      ]
     },
     "metadata": {},
     "output_type": "display_data"
    }
   ],
   "source": [
    "# this dataset is findout from the clustering\n",
    "kmeans=KMeans(n_clusters=10, init='k-means++')\n",
    "y_means=kmeans.fit_predict(x)\n",
    "plt.plot(y_means)\n",
    "plt.show()"
   ]
  },
  {
   "cell_type": "code",
   "execution_count": 97,
   "metadata": {},
   "outputs": [
    {
     "data": {
      "image/png": "[encoded data removed]",
      "text/plain": [
       "<Figure size 640x480 with 1 Axes>"
      ]
     },
     "metadata": {},
     "output_type": "display_data"
    }
   ],
   "source": [
    "sum_of_distances=[]\n",
    "k=range(1,10)\n",
    "for num in k:\n",
    "    kmeans=KMeans(n_clusters=num)\n",
    "    kmeans.fit(x)\n",
    "    sum_of_distances.append(kmeans.inertia_)\n",
    "plt.plot(k,sum_of_distances,'bx-')\n",
    "plt.xlabel('values of k')\n",
    "plt.ylabel('sum of distances/intertia')\n",
    "plt.title('elblow method for  optimal k')\n",
    "plt.show()"
   ]
  },
  {
   "cell_type": "code",
   "execution_count": 96,
   "metadata": {},
   "outputs": [],
   "source": [
    "def print_cluster(i):\n",
    "    print(\"Cluster %d:\" % i),\n",
    "    for ind in order_centroids[i, :10]:\n",
    "        print(' %s' % terms[ind]),\n",
    "    print"
   ]
  },
  {
   "cell_type": "code",
   "execution_count": 99,
   "metadata": {},
   "outputs": [],
   "source": [
    "from sklearn.metrics import silhouette_score,silhouette_samples"
   ]
  },
  {
   "cell_type": "code",
   "execution_count": 106,
   "metadata": {},
   "outputs": [],
   "source": [
    "rang_clust=[2,3,4,5,6,7,8,9]\n",
    "silhouette_avg=[]\n",
    "\n",
    "for num_cluster in rang_clust:\n",
    "    kmeans=KMeans(n_clusters=num_cluster)\n",
    "    kmeans.fit(x)\n",
    "    cluster_label=kmeans.labels_\n",
    "    \n",
    "    # silhouetter  score\n",
    "    silhouette_avg.append(silhouette_score(x,cluster_label))\n",
    "    plt.plot(rang_clust,silhouette_avg,'bx-')\n",
    "    plt.xlabel('values of k')\n",
    "    plt.ylabel('silhouette score')\n",
    "    plt.title('silhouette score for optimal k')\n",
    "    plt.show()"
   ]
  },
  {
   "cell_type": "code",
   "execution_count": 102,
   "metadata": {},
   "outputs": [
    {
     "name": "stdout",
     "output_type": "stream",
     "text": [
      "Top term of cluster \n",
      "Cluster 0:\n",
      " steel\n",
      " used\n",
      " pipe\n",
      " pvc\n",
      " screws\n",
      " applications\n",
      " use\n",
      " head\n",
      " metal\n",
      " cutting\n",
      "Cluster 1:\n",
      " water\n",
      " shower\n",
      " faucet\n",
      " sink\n",
      " valve\n",
      " drain\n",
      " brass\n",
      " handle\n",
      " tub\n",
      " bathroom\n",
      "Cluster 2:\n",
      " cabinet\n",
      " vanity\n",
      " drawer\n",
      " storage\n",
      " adjustable\n",
      " door\n",
      " drawers\n",
      " wood\n",
      " shelf\n",
      " white\n",
      "Cluster 3:\n",
      " rug\n",
      " tile\n",
      " indoor\n",
      " recommended\n",
      " vary\n",
      " slightly\n",
      " variation\n",
      " patterns\n",
      " residential\n",
      " thinset\n",
      "Cluster 4:\n",
      " easy\n",
      " ft\n",
      " use\n",
      " wood\n",
      " home\n",
      " design\n",
      " steel\n",
      " durable\n",
      " wall\n",
      " finish\n",
      "Cluster 5:\n",
      " paint\n",
      " color\n",
      " gloss\n",
      " colors\n",
      " mn\n",
      " ri\n",
      " fee\n",
      " ct\n",
      " ca\n",
      " states\n",
      "Cluster 6:\n",
      " power\n",
      " air\n",
      " volt\n",
      " fan\n",
      " battery\n",
      " protection\n",
      " motor\n",
      " speed\n",
      " filter\n",
      " amp\n",
      "Cluster 7:\n",
      " light\n",
      " watt\n",
      " bulb\n",
      " energy\n",
      " led\n",
      " lighting\n",
      " bulbs\n",
      " fixture\n",
      " incandescent\n",
      " glass\n",
      "Cluster 8:\n",
      " door\n",
      " doors\n",
      " glass\n",
      " shower\n",
      " hardware\n",
      " steel\n",
      " panel\n",
      " tempered\n",
      " security\n",
      " hinges\n",
      "Cluster 9:\n",
      " oven\n",
      " cooking\n",
      " cu\n",
      " freezer\n",
      " refrigerator\n",
      " food\n",
      " burner\n",
      " door\n",
      " temperature\n",
      " ft\n"
     ]
    }
   ],
   "source": [
    "# # Optimal clusters is \n",
    "k=10\n",
    "model=KMeans(n_clusters=k,init='k-means++',max_iter=100, n_init=1)\n",
    "model.fit(x)\n",
    "print('Top term of cluster ')\n",
    "order_centroids=model.cluster_centers_.argsort()[:, ::-1]\n",
    "terms=vect.get_feature_names_out()\n",
    "for i in range(k):\n",
    "    print_cluster(i)"
   ]
  },
  {
   "cell_type": "code",
   "execution_count": 103,
   "metadata": {},
   "outputs": [],
   "source": [
    "def product_recommeand(product):\n",
    "    y=vect.transform([product])\n",
    "    prediction=model.predict(y)\n",
    "    print_cluster(prediction[0])"
   ]
  },
  {
   "cell_type": "code",
   "execution_count": 104,
   "metadata": {},
   "outputs": [
    {
     "name": "stdout",
     "output_type": "stream",
     "text": [
      "Cluster 5:\n",
      " paint\n",
      " color\n",
      " gloss\n",
      " colors\n",
      " mn\n",
      " ri\n",
      " fee\n",
      " ct\n",
      " ca\n",
      " states\n"
     ]
    }
   ],
   "source": [
    "product_recommeand(\"spray paint\")"
   ]
  },
  {
   "cell_type": "code",
   "execution_count": 105,
   "metadata": {},
   "outputs": [
    {
     "name": "stdout",
     "output_type": "stream",
     "text": [
      "Cluster 0:\n",
      " steel\n",
      " used\n",
      " pipe\n",
      " pvc\n",
      " screws\n",
      " applications\n",
      " use\n",
      " head\n",
      " metal\n",
      " cutting\n"
     ]
    }
   ],
   "source": [
    "product_recommeand(\"steel drill\")"
   ]
  },
  {
   "cell_type": "code",
   "execution_count": null,
   "metadata": {},
   "outputs": [],
   "source": []
  }
 ],
 "metadata": {
  "kernelspec": {
   "display_name": "deep",
   "language": "python",
   "name": "python3"
  },
  "language_info": {
   "codemirror_mode": {
    "name": "ipython",
    "version": 3
   },
   "file_extension": ".py",
   "mimetype": "text/x-python",
   "name": "python",
   "nbconvert_exporter": "python",
   "pygments_lexer": "ipython3",
   "version": "3.12.4"
  }
 },
 "nbformat": 4,
 "nbformat_minor": 2
}
